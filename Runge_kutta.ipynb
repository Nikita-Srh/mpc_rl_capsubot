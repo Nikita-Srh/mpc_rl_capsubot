{
 "cells": [
  {
   "cell_type": "code",
   "execution_count": 9,
   "metadata": {},
   "outputs": [
    {
     "data": {
      "image/png": "[encoded data removed]",
      "text/plain": [
       "<Figure size 432x288 with 1 Axes>"
      ]
     },
     "metadata": {
      "needs_background": "light"
     },
     "output_type": "display_data"
    },
    {
     "name": "stdout",
     "output_type": "stream",
     "text": [
      "Максимальная ошибка 0.00000\n"
     ]
    }
   ],
   "source": [
    "import math\n",
    "import numpy as np\n",
    "import matplotlib.pyplot as plt\n",
    "\n",
    "def runge_kutta(y, x, dx, f):\n",
    "    \"\"\" y - начальное значение для y\n",
    "        x начальное значение для x\n",
    "        dx шаг в x\n",
    "        f - производная y(t)\n",
    "    \"\"\"\n",
    "    k1 = dx * f(y, t)\n",
    "    k2 = dx * f(y + 0.5 * k1, x + 0.5 * dx)\n",
    "    k3 = dx * f(y + 0.5 * k2, x + 0.5 * dx)\n",
    "    k4 = dx * f(y + k3, x + dx)\n",
    "    return y + (k1 + 2 * k2 + 2 * k3 + k4) / 6.\n",
    "\n",
    "if __name__=='__main__':\n",
    "    t = 0.\n",
    "    y = 1.\n",
    "    dt = .01\n",
    "    ys, ts = [], []\n",
    "    def func(y, t):\n",
    "        return t * math.sqrt(y)\n",
    "    while t <= 10:\n",
    "        y = runge_kutta(y, t, dt, func)\n",
    "        t += dt\n",
    "        ys.append(y)\n",
    "        ts.append(t)\n",
    "\n",
    "    exact = [(t ** 2 + 4) ** 2 / 16. for t in ts]\n",
    "    plt.plot(ts, ys, label='Метод Рунге-Кутты')\n",
    "    plt.plot(ts, exact, label='exact')\n",
    "    plt.legend()\n",
    "    plt.show()\n",
    "    error = np.array(exact) - np.array(ys)\n",
    "    print(\"Максимальная ошибка {:.5f}\".format(max(error)))"
   ]
  }
 ],
 "metadata": {
  "interpreter": {
   "hash": "0bf75c74b48ab41ceb2e21878ead4df4b1442a69367bf000e45b3dd936836b31"
  },
  "kernelspec": {
   "display_name": "Python 3.9.9 64-bit",
   "language": "python",
   "name": "python3"
  },
  "language_info": {
   "codemirror_mode": {
    "name": "ipython",
    "version": 3
   },
   "file_extension": ".py",
   "mimetype": "text/x-python",
   "name": "python",
   "nbconvert_exporter": "python",
   "pygments_lexer": "ipython3",
   "version": "3.9.9"
  },
  "orig_nbformat": 4
 },
 "nbformat": 4,
 "nbformat_minor": 2
}
