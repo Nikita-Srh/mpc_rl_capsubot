{
  "nbformat": 4,
  "nbformat_minor": 0,
  "metadata": {
    "orig_nbformat": 4,
    "language_info": {
      "name": "python",
      "version": "3.8.10",
      "mimetype": "text/x-python",
      "codemirror_mode": {
        "name": "ipython",
        "version": 3
      },
      "pygments_lexer": "ipython3",
      "nbconvert_exporter": "python",
      "file_extension": ".py"
    },
    "kernelspec": {
      "name": "python3",
      "display_name": "Python 3.8.10 64-bit"
    },
    "interpreter": {
      "hash": "916dbcbb3f70747c44a77c7bcd40155683ae19c65e1c03b4aa3499c5328201f1"
    },
    "colab": {
      "name": "example_mpc.ipynb",
      "provenance": [],
      "include_colab_link": true
    },
    "accelerator": "GPU"
  },
  "cells": [
    {
      "cell_type": "markdown",
      "metadata": {
        "id": "view-in-github",
        "colab_type": "text"
      },
      "source": [
        "<a href=\"https://colab.research.google.com/github/xxFirefly/mpc_rl_capsubot/blob/new_feature/example_mpc.ipynb\" target=\"_parent\"><img src=\"https://colab.research.google.com/assets/colab-badge.svg\" alt=\"Open In Colab\"/></a>"
      ]
    },
    {
      "cell_type": "markdown",
      "metadata": {
        "id": "Sv7hwjmvgM6O"
      },
      "source": [
        "# Example of model usage"
      ]
    },
    {
      "cell_type": "code",
      "metadata": {
        "colab": {
          "base_uri": "https://localhost:8080/"
        },
        "id": "A1wkfTsigM6U",
        "outputId": "cd5b615a-9bef-43f5-f3a9-2bf10b2c75d0"
      },
      "source": [
        "#%matplotlib\n",
        "if 'google.colab' in str(get_ipython()):\n",
        "  import os\n",
        "  if (os.path.split(os.getcwd())[-1] != 'mpc_rl_capsubot'):\n",
        "    import os\n",
        "    !git clone https://github.com/xxFirefly/mpc_rl_capsubot  \n",
        "    !pip install casadi==3.5.5\n",
        "    os.chdir(\"mpc_rl_capsubot\")\n",
        "  !git pull\n",
        "\n",
        "from envs.CapsubotEnv import CapsubotEnv\n",
        "import numpy as np\n",
        "from time import time\n",
        "import matplotlib.pyplot as plt\n",
        "import scipy.constants\n",
        "\n",
        "# https://github.com/MMehrez/MPC-and-MHE-implementation-in-MATLAB-using-Casadi/blob/master/workshop_github/Python_Implementation/mpc_code.py\n",
        "\n",
        "# pip install casadi\n",
        "from casadi import *\n",
        "\n",
        "try:\n",
        "    env.close()\n",
        "except Exception:\n",
        "    pass\n",
        "\n",
        "env = CapsubotEnv()"
      ],
      "execution_count": 1,
      "outputs": [
        {
          "output_type": "stream",
          "name": "stdout",
          "text": [
            "fatal: destination path 'mpc_rl_capsubot' already exists and is not an empty directory.\n",
            "Requirement already satisfied: casadi==3.5.5 in /usr/local/lib/python3.7/dist-packages (3.5.5)\n",
            "Already up to date.\n"
          ]
        },
        {
          "output_type": "stream",
          "name": "stderr",
          "text": [
            "/usr/local/lib/python3.7/dist-packages/gym/logger.py:30: UserWarning: \u001b[33mWARN: Box bound precision lowered by casting to float32\u001b[0m\n",
            "  warnings.warn(colorize('%s: %s'%('WARN', msg % args), 'yellow'))\n"
          ]
        }
      ]
    },
    {
      "cell_type": "markdown",
      "metadata": {
        "id": "AyABBtWngM6V"
      },
      "source": [
        "# Helper functions"
      ]
    },
    {
      "cell_type": "code",
      "metadata": {
        "id": "Ze7xdItugM6W"
      },
      "source": [
        "def shift_timestep(step_horizon, t0, state_init, u, f):\n",
        "    f_value = f(state_init, u[:, 0])\n",
        "    next_state = DM.full(state_init + (step_horizon * f_value))\n",
        "\n",
        "    t0 = t0 + step_horizon\n",
        "    u0 = horzcat(\n",
        "        u[:, 1:],\n",
        "        reshape(u[:, -1], -1, 1)\n",
        "    )\n",
        "\n",
        "    return t0, next_state, u0\n",
        "\n",
        "\n",
        "def DM2Arr(dm):\n",
        "    return np.array(dm.full())"
      ],
      "execution_count": 2,
      "outputs": []
    },
    {
      "cell_type": "markdown",
      "metadata": {
        "id": "yYqLH2frgM6W"
      },
      "source": [
        "# State and control variables."
      ]
    },
    {
      "cell_type": "code",
      "metadata": {
        "id": "kaYPHzbLgM6X"
      },
      "source": [
        "# Based on the exapmle \n",
        "# https://github.com/MMehrez/MPC-and-MHE-implementation-in-MATLAB-using-Casadi/blob/master/workshop_github/Python_Implementation/mpc_code.py\n",
        "\n",
        "x = SX.sym(\"x\")\n",
        "xi = SX.sym(\"xi\")\n",
        "x_dot = SX.sym(\"x_dot\")\n",
        "xi_dot = SX.sym(\"xi_dot\")\n",
        "states = vertcat(x, x_dot, xi, xi_dot)\n",
        "n_states = states.numel()\n",
        "force = SX.sym(\"F\")\n",
        "controls = vertcat(force)\n",
        "n_controls = controls.numel()\n"
      ],
      "execution_count": 3,
      "outputs": []
    },
    {
      "cell_type": "markdown",
      "metadata": {
        "id": "m6CwTHnqgM6X"
      },
      "source": [
        ""
      ]
    },
    {
      "cell_type": "markdown",
      "metadata": {
        "id": "o6-LA7VOgM6Z"
      },
      "source": [
        "# MPC and optimal control parameters.\n",
        "\n",
        "---\n",
        "\n"
      ]
    },
    {
      "cell_type": "code",
      "metadata": {
        "id": "ofe7G20igM6Z"
      },
      "source": [
        "# Setting matrix_weights' variables. For objective function??\n",
        "Q_x = 1\n",
        "Q_x_dot = 1\n",
        "Q_xi = 1\n",
        "Q_xi_dot = 1\n",
        "R_1 = 1\n",
        "\n",
        "step_horizon = 0.01 # Time between steps in seconds.\n",
        "N = 10 #int(0.1 / env.dt)  # Prediction horizon.\n",
        "sim_time = 100\n",
        "\n",
        "F_max = 1.25 # Need to add proper force model\n",
        "F_min = 0 \n",
        "\n",
        "# Initial and target values.\n",
        "x_init = 0\n",
        "x_dot_init = 0\n",
        "xi_init = 0\n",
        "xi_dot_init = 0\n",
        "x_target = 0.2\n",
        "x_dot_target = 0\n",
        "xi_target = 0\n",
        "xi_dot_target = 0\n",
        "\n",
        "\n",
        "\n",
        "# A vector that represents the states over the optimization problem.\n",
        "X = SX.sym(\"X\", n_states, (N + 1))\n",
        "# Decision variables (controls)\n",
        "U = SX.sym(\"U\", n_controls, N)\n",
        "# Parameters (which include the initial state and the reference state)\n",
        "P = SX.sym(\"P\", n_states + n_states)\n",
        "# state weights matrix (Q_X, Q_Y, Q_THETA)\n",
        "Q = diagcat(Q_x, Q_x_dot, Q_xi, Q_xi_dot)\n",
        "# controls weights matrix\n",
        "R = diagcat(R_1)"
      ],
      "execution_count": 4,
      "outputs": []
    },
    {
      "cell_type": "markdown",
      "metadata": {
        "id": "8pYv1FqUgM6Y"
      },
      "source": [
        "# Model"
      ]
    },
    {
      "cell_type": "code",
      "metadata": {
        "id": "7mBUKnnhgM6Y"
      },
      "source": [
        "friction = env.friction_model(x_dot)\n",
        "x_acc = (env.stiffness * xi - force + friction) / env.M\n",
        "xi_acc = (-env.stiffness * xi + force) / env.m - x_acc\n",
        "\n",
        "rhs = vertcat(x_dot, x_acc, xi_dot, xi_acc)  # System r.h.s\n",
        "\n",
        "# Nonlinear mapping function f(x,u).\n",
        "f = Function(\"f\", [states, controls], [rhs])"
      ],
      "execution_count": 5,
      "outputs": []
    },
    {
      "cell_type": "code",
      "metadata": {
        "id": "s1ESo99YEfpp"
      },
      "source": [
        "cost_fn = 0 # Cost function.\n",
        "g = X[:, 0] - P[:n_states] # Constraints in the equation. "
      ],
      "execution_count": 6,
      "outputs": []
    },
    {
      "cell_type": "code",
      "metadata": {
        "id": "DmJwArdSEtvC"
      },
      "source": [
        "# Runge kutta.\n",
        "for k in range(N):\n",
        "    st = X[:, k]\n",
        "    con = U[:, k]\n",
        "    cost_fn = cost_fn \\\n",
        "        + (st - P[n_states:]).T @ Q @ (st - P[n_states:]) \\\n",
        "        + con.T @ R @ con\n",
        "    st_next = X[:, k+1]\n",
        "    k1 = f(st, con)\n",
        "    k2 = f(st + step_horizon/2*k1, con)\n",
        "    k3 = f(st + step_horizon/2*k2, con)\n",
        "    k4 = f(st + step_horizon * k3, con)\n",
        "    st_next_RK4 = st + (step_horizon / 6) * (k1 + 2 * k2 + 2 * k3 + k4)\n",
        "    g = vertcat(g, st_next - st_next_RK4)"
      ],
      "execution_count": 7,
      "outputs": []
    },
    {
      "cell_type": "markdown",
      "metadata": {
        "id": "nN5GOSyVgM6a"
      },
      "source": [
        "# Problem solving"
      ]
    },
    {
      "cell_type": "code",
      "metadata": {
        "id": "b1qZ1VZHgM6b"
      },
      "source": [
        "OPT_variables = vertcat(\n",
        "    X.reshape((-1, 1)), U.reshape((-1, 1))  # Example: 3x11 ---> 33x1 where 3=states, 11=N+1\n",
        ")\n",
        "nlp_prob = {\"f\": cost_fn, \"x\": OPT_variables, \"g\": g, \"p\": P}\n",
        "\n",
        "opts = {\n",
        "    \"ipopt\": {\n",
        "        \"max_iter\": 2000,\n",
        "        \"print_level\": 0,\n",
        "        \"acceptable_tol\": 1e-8,\n",
        "        \"acceptable_obj_change_tol\": 1e-6,\n",
        "    },\n",
        "    \"print_time\": 0,\n",
        "}\n",
        "\n",
        "solver = nlpsol(\"solver\", \"ipopt\", nlp_prob, opts)\n",
        "\n",
        "lbx = DM.zeros((n_states * (N + 1) + n_controls * N, 1))\n",
        "ubx = DM.zeros((n_states * (N + 1) + n_controls * N, 1))\n",
        "\n",
        "lbx[0 : n_states * (N + 1) : n_states] = -inf  # X lower bound\n",
        "lbx[1 : n_states * (N + 1) : n_states] = -inf  # x_dot lower bound\n",
        "lbx[2 : n_states * (N + 1) : n_states] = -inf  # xi lower bound\n",
        "lbx[3 : n_states * (N + 1) : n_states] = -inf  # xi_dot lower bound\n",
        "\n",
        "\n",
        "ubx[0 : n_states * (N + 1) : n_states] = inf  # X lower bound\n",
        "ubx[1 : n_states * (N + 1) : n_states] = inf  # x_dot upper bound\n",
        "ubx[2 : n_states * (N + 1) : n_states] = inf  # xi lower bound\n",
        "ubx[3 : n_states * (N + 1) : n_states] = inf  # xi_dot upper bound\n",
        "\n",
        "\n",
        "lbx[n_states * (N + 1) :] = F_min  # v lower bound for F.\n",
        "ubx[n_states * (N + 1) :] = F_max  # v upper bound for F\n",
        "\n",
        "\n",
        "args = {\n",
        "    \"lbg\": DM.zeros((n_states * (N + 1), 1)),  # constraints lower bound\n",
        "    \"ubg\": DM.zeros((n_states * (N + 1), 1)),  # constraints upper bound\n",
        "    \"lbx\": lbx,\n",
        "    \"ubx\": ubx,\n",
        "}"
      ],
      "execution_count": 8,
      "outputs": []
    },
    {
      "cell_type": "code",
      "metadata": {
        "colab": {
          "base_uri": "https://localhost:8080/"
        },
        "id": "YJ_SFR67gM6c",
        "outputId": "430246b4-c2f9-4658-f3a5-4d4d6b5322c0"
      },
      "source": [
        "t0 = 0\n",
        "state_init = DM([x_init, x_dot_init, xi_init, xi_dot_init])  # initial state\n",
        "state_target = DM([x_target, x_dot_target, xi_target, xi_dot_target])  # target state\n",
        "\n",
        "t = DM(t0)\n",
        "\n",
        "u0 = DM.zeros((n_controls, N))  # initial control\n",
        "X0 = repmat(state_init, 1, N + 1)  # initial state full\n",
        "\n",
        "\n",
        "mpc_iter = 0\n",
        "cat_states = DM2Arr(X0)\n",
        "cat_controls = DM2Arr(u0[:, 0])\n",
        "times = np.array([[0]])\n",
        "states = []\n",
        "states.append([0, 0])\n",
        "main_loop = time()  # return time in sec\n",
        "age = 0\n",
        "while (norm_2(state_init - state_target) > 1e-1) and (mpc_iter * step_horizon < sim_time):\n",
        "    age += 1\n",
        "    if (age == 50):\n",
        "      break\n",
        "    t1 = time()\n",
        "    args[\"p\"] = vertcat(state_init, state_target)  # current state  # target state\n",
        "    # optimization variable current state\n",
        "    args[\"x0\"] = vertcat(reshape(X0, n_states * (N + 1), 1), reshape(u0, n_controls * N, 1))\n",
        "\n",
        "\n",
        "    sol = solver(\n",
        "        x0=args[\"x0\"],\n",
        "        lbx=args[\"lbx\"],\n",
        "        ubx=args[\"ubx\"],\n",
        "        lbg=args[\"lbg\"],\n",
        "        ubg=args[\"ubg\"],\n",
        "        p=args[\"p\"],\n",
        "    )\n",
        "\n",
        "    u = reshape(sol[\"x\"][n_states * (N + 1) :], n_controls, N)\n",
        "    X0 = reshape(sol[\"x\"][: n_states * (N + 1)], n_states, N + 1)\n",
        "\n",
        "    cat_states = np.dstack((cat_states, DM2Arr(X0)))\n",
        "    # print(cat_state)\n",
        "\n",
        "    cat_controls = np.vstack((cat_controls, DM2Arr(u[:, 0])))\n",
        "    t = np.vstack((t, t0))\n",
        "\n",
        "    t0, state_init, u0 = shift_timestep(step_horizon, t0, state_init, u, f)\n",
        "\n",
        "    X0 = horzcat(X0[:, 1:], reshape(X0[:, -1], -1, 1))\n",
        "    x = float(X0[0,0])\n",
        "    x_dot = float(X0[1,0])\n",
        "    states.append([x, x_dot])\n",
        "    print(\"x:{:.5f}, x_dot:{:.5f} u:{:.2f}\".format(x, x_dot, float(u0[0])))\n",
        "\n",
        "    t2 = time()\n",
        "    times = np.vstack((times, t2 - t1))\n",
        "    mpc_iter = mpc_iter + 1\n",
        "\n",
        "main_loop_time = time()\n",
        "ss_error = norm_2(state_init - state_target)\n",
        "\n",
        "print(\"\\n\\n\")\n",
        "print(\"Total time: \", main_loop_time - main_loop)\n",
        "print(\"avg iteration time: \", np.array(times).mean() * 1000, \"ms\")\n",
        "print(\"final error: \", ss_error)"
      ],
      "execution_count": 60,
      "outputs": [
        {
          "output_type": "stream",
          "name": "stdout",
          "text": [
            "x:0.19975, x_dot:-0.00000 u:0.00\n",
            "x:0.00016, x_dot:0.00948 u:0.00\n",
            "x:0.00016, x_dot:0.00948 u:0.00\n",
            "x:0.00016, x_dot:0.00948 u:0.00\n",
            "x:-0.00005, x_dot:0.01195 u:0.00\n",
            "x:0.00015, x_dot:0.00858 u:0.00\n",
            "x:-0.00012, x_dot:0.00990 u:0.00\n",
            "x:-0.00003, x_dot:0.01975 u:0.00\n",
            "x:-0.00028, x_dot:0.06637 u:0.03\n",
            "x:-0.00050, x_dot:-0.06062 u:0.01\n",
            "x:-0.00067, x_dot:-0.01549 u:0.03\n",
            "x:-0.00039, x_dot:-0.06092 u:0.00\n",
            "x:-0.00026, x_dot:-0.00888 u:0.00\n",
            "x:0.00008, x_dot:0.00857 u:0.00\n",
            "x:-0.00026, x_dot:0.04248 u:0.00\n",
            "x:-0.00028, x_dot:-0.00667 u:0.00\n",
            "x:-0.00078, x_dot:0.04158 u:0.00\n",
            "x:-0.00080, x_dot:0.01424 u:0.02\n",
            "x:-0.00155, x_dot:-0.00269 u:0.06\n",
            "x:-0.00115, x_dot:-0.02009 u:0.08\n",
            "x:-0.00093, x_dot:0.03632 u:0.10\n",
            "x:-0.00057, x_dot:-0.01825 u:0.08\n",
            "x:-0.00118, x_dot:-0.04574 u:0.01\n",
            "x:-0.00207, x_dot:-0.08181 u:0.00\n",
            "x:-0.00200, x_dot:0.01264 u:0.00\n",
            "x:-0.00231, x_dot:-0.01684 u:0.00\n",
            "x:-0.00293, x_dot:-0.02504 u:0.00\n",
            "x:-0.00274, x_dot:0.04206 u:0.04\n",
            "x:-0.00188, x_dot:0.04746 u:0.02\n",
            "x:-0.00097, x_dot:0.11034 u:0.09\n",
            "x:0.00010, x_dot:0.02890 u:0.18\n",
            "x:0.00082, x_dot:0.04636 u:0.14\n",
            "x:0.00085, x_dot:-0.02017 u:0.08\n",
            "x:0.00022, x_dot:-0.03640 u:0.00\n",
            "x:-0.00055, x_dot:-0.11675 u:0.00\n",
            "x:-0.00171, x_dot:-0.06634 u:0.00\n",
            "x:-0.00240, x_dot:-0.03663 u:0.13\n",
            "x:-0.00274, x_dot:0.01190 u:0.00\n",
            "x:-0.00218, x_dot:0.07909 u:0.00\n",
            "x:-0.00139, x_dot:0.07163 u:0.08\n",
            "x:-0.00068, x_dot:0.09327 u:0.28\n",
            "x:0.00018, x_dot:0.08937 u:0.42\n",
            "x:0.00102, x_dot:0.00759 u:0.41\n",
            "x:0.00153, x_dot:-0.05830 u:0.24\n",
            "x:0.00058, x_dot:-0.23128 u:0.00\n",
            "x:-0.00165, x_dot:-0.34471 u:0.00\n",
            "x:-0.00510, x_dot:-0.46869 u:0.00\n",
            "x:-0.00979, x_dot:-0.49948 u:0.00\n",
            "x:-0.01478, x_dot:-0.33071 u:0.00\n",
            "\n",
            "\n",
            "\n",
            "Total time:  2.7509329319000244\n",
            "avg iteration time:  54.85504150390625 ms\n",
            "final error:  2.3182\n"
          ]
        }
      ]
    },
    {
      "cell_type": "code",
      "metadata": {
        "id": "p7pfVNU7RYi8",
        "outputId": "8a79c402-2896-4e22-85fe-7435bebb6c36",
        "colab": {
          "base_uri": "https://localhost:8080/"
        }
      },
      "source": [
        "states"
      ],
      "execution_count": 61,
      "outputs": [
        {
          "output_type": "execute_result",
          "data": {
            "text/plain": [
              "[[0, 0],\n",
              " [0.1997546887528791, -4.922986048421212e-09],\n",
              " [0.00016043792801454047, 0.009476592397418515],\n",
              " [0.00016043792801454047, 0.009476592397418519],\n",
              " [0.00016043792801454047, 0.009476592397418515],\n",
              " [-5.3293001226808625e-05, 0.01195212882599238],\n",
              " [0.00015356204970514602, 0.008582637578477293],\n",
              " [-0.00011610056854982404, 0.009898517584333683],\n",
              " [-3.4978870438822186e-05, 0.01974825561762063],\n",
              " [-0.00028277784889851215, 0.06636753205122044],\n",
              " [-0.0004985852083775484, -0.060615594267897956],\n",
              " [-0.0006724553002313365, -0.015485169904854462],\n",
              " [-0.0003853586101049457, -0.0609178703518746],\n",
              " [-0.00025987683625254906, -0.008882165834636385],\n",
              " [8.36943698897725e-05, 0.008571566200914354],\n",
              " [-0.0002629557794540982, 0.04247758758299095],\n",
              " [-0.0002753762267996196, -0.006672963307830652],\n",
              " [-0.0007792980931270107, 0.041582892680829896],\n",
              " [-0.000800671655962507, 0.01424117290373837],\n",
              " [-0.0015475615915858756, -0.002686693450285296],\n",
              " [-0.0011493207673831194, -0.020093226932273774],\n",
              " [-0.000932493085322109, 0.036323420511637304],\n",
              " [-0.0005721232027796282, -0.018253624133374936],\n",
              " [-0.0011789438686268853, -0.045736124376131754],\n",
              " [-0.0020742236940391578, -0.08180912780644857],\n",
              " [-0.0019959393474289293, 0.012635764054558875],\n",
              " [-0.002306781516166448, -0.0168353017956827],\n",
              " [-0.0029273428898223654, -0.025043427174573443],\n",
              " [-0.0027405831893196337, 0.04205567913382041],\n",
              " [-0.0018827731178047327, 0.04746447176625288],\n",
              " [-0.0009709446747305497, 0.11034263292125056],\n",
              " [0.00010290905039537045, 0.028900105610798307],\n",
              " [0.0008240115773970433, 0.04636207346960756],\n",
              " [0.0008472498083618174, -0.02017066175076524],\n",
              " [0.00021687810757303936, -0.036400612406099514],\n",
              " [-0.000547676005914442, -0.11675464005045376],\n",
              " [-0.0017074953974421196, -0.06633642967704617],\n",
              " [-0.002403366842270161, -0.03663137850843263],\n",
              " [-0.002737180239760686, 0.011904116596185439],\n",
              " [-0.0021809483455549855, 0.07908867040146891],\n",
              " [-0.001390060507040425, 0.07162840695753178],\n",
              " [-0.0006843110407943112, 0.09326682100214644],\n",
              " [0.0001774998139233616, 0.08936840525473615],\n",
              " [0.001016551674257397, 0.007593540073450257],\n",
              " [0.001525120007351046, -0.058295109781458236],\n",
              " [0.0005823066482562094, -0.23127589140964275],\n",
              " [-0.0016522217502607788, -0.34470506861724365],\n",
              " [-0.005099272927905635, -0.468692904122164],\n",
              " [-0.009786202083407879, -0.49948296120368646],\n",
              " [-0.014781031702578497, -0.3307073457939976]]"
            ]
          },
          "metadata": {},
          "execution_count": 61
        }
      ]
    },
    {
      "cell_type": "code",
      "metadata": {
        "colab": {
          "base_uri": "https://localhost:8080/",
          "height": 311
        },
        "id": "vgiiVbK6gM6e",
        "outputId": "e39eb384-c8ab-4c3c-81da-1ea90a180b43"
      },
      "source": [
        "states = np.array(states)\n",
        "fig, axs = plt.subplots(2, 2, sharex=True)  # , sharex=True, sharey=True)\n",
        "fig.suptitle(\"average speed: {:.3}\".format(states[0, -1] / t[-1, 0]))\n",
        "axs[0, 0].plot(t, states[:, 0], label=\"x\")\n",
        "axs[0, 0].set_title(\"x\")\n",
        "axs[1, 0].plot(t, states[:, 1], label=\"dx\")\n",
        "axs[1, 0].set_title(\"dx\")\n",
        "# axs[0, 1].plot(t, states[:, 2] + states[:, 0], label=\"xi\")\n",
        "# axs[1, 0].set_title(\"xi\")\n",
        "# axs[1, 1].plot(t, states[:, 3], label=\"dxi\")\n",
        "# axs[1, 1].set_title(\"dxi\")\n",
        "# t_shift = 3\n",
        "# axs[0, 0].set_xlim(t_shift, t_shift + 1)\n",
        "\n",
        "\n",
        "# plt.figure()\n",
        "# plt.plot(ts, actions, label=\"F\")\n",
        "# plt.xlim(t_shift, t_shift + 1)\n",
        "plt.legend()\n",
        "plt.show()\n",
        "\n"
      ],
      "execution_count": 59,
      "outputs": [
        {
          "output_type": "stream",
          "name": "stderr",
          "text": [
            "No handles with labels found to put in legend.\n"
          ]
        },
        {
          "output_type": "display_data",
          "data": {
            "image/png": "[encoded data removed]",
            "text/plain": [
              "<Figure size 432x288 with 4 Axes>"
            ]
          },
          "metadata": {
            "needs_background": "light"
          }
        }
      ]
    },
    {
      "cell_type": "code",
      "metadata": {
        "id": "aE-mLeacgM6f"
      },
      "source": [
        ""
      ],
      "execution_count": null,
      "outputs": []
    }
  ]
}