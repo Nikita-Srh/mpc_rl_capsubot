{
  "nbformat": 4,
  "nbformat_minor": 0,
  "metadata": {
    "orig_nbformat": 4,
    "language_info": {
      "name": "python",
      "version": "3.8.10",
      "mimetype": "text/x-python",
      "codemirror_mode": {
        "name": "ipython",
        "version": 3
      },
      "pygments_lexer": "ipython3",
      "nbconvert_exporter": "python",
      "file_extension": ".py"
    },
    "kernelspec": {
      "name": "python3",
      "display_name": "Python 3.8.10 64-bit"
    },
    "interpreter": {
      "hash": "916dbcbb3f70747c44a77c7bcd40155683ae19c65e1c03b4aa3499c5328201f1"
    },
    "colab": {
      "name": "example_mpc.ipynb",
      "provenance": [],
      "include_colab_link": true
    }
  },
  "cells": [
    {
      "cell_type": "markdown",
      "metadata": {
        "id": "view-in-github",
        "colab_type": "text"
      },
      "source": [
        "<a href=\"https://colab.research.google.com/github/xxFirefly/mpc_rl_capsubot/blob/f%2Fadd-colab/example_mpc.ipynb\" target=\"_parent\"><img src=\"https://colab.research.google.com/assets/colab-badge.svg\" alt=\"Open In Colab\"/></a>"
      ]
    },
    {
      "cell_type": "markdown",
      "metadata": {
        "id": "Sv7hwjmvgM6O"
      },
      "source": [
        "# Example of model usage"
      ]
    },
    {
      "cell_type": "code",
      "metadata": {
        "colab": {
          "base_uri": "https://localhost:8080/"
        },
        "id": "A1wkfTsigM6U",
        "outputId": "ab36cf08-b199-4bc3-e195-773dad484b42"
      },
      "source": [
        "#%matplotlib\n",
        "if 'google.colab' in str(get_ipython()):\n",
        "  import os\n",
        "  if (os.path.split(os.getcwd())[-1] != 'mpc_rl_capsubot'):\n",
        "    import os\n",
        "    !git clone https://github.com/xxFirefly/mpc_rl_capsubot  \n",
        "    !pip install casadi==3.5.5\n",
        "    os.chdir(\"mpc_rl_capsubot\")\n",
        "  !git pull\n",
        "\n",
        "from envs.CapsubotEnv import CapsubotEnv\n",
        "import numpy as np\n",
        "from time import time\n",
        "import matplotlib.pyplot as plt\n",
        "import scipy.constants\n",
        "\n",
        "# https://github.com/MMehrez/MPC-and-MHE-implementation-in-MATLAB-using-Casadi/blob/master/workshop_github/Python_Implementation/mpc_code.py\n",
        "\n",
        "# pip install casadi\n",
        "from casadi import *\n",
        "\n",
        "try:\n",
        "    env.close()\n",
        "except Exception:\n",
        "    pass\n",
        "\n",
        "env = CapsubotEnv()"
      ],
      "execution_count": 15,
      "outputs": [
        {
          "output_type": "stream",
          "name": "stdout",
          "text": [
            "Already up to date.\n"
          ]
        },
        {
          "output_type": "stream",
          "name": "stderr",
          "text": [
            "/usr/local/lib/python3.7/dist-packages/gym/logger.py:30: UserWarning: \u001b[33mWARN: Box bound precision lowered by casting to float32\u001b[0m\n",
            "  warnings.warn(colorize('%s: %s'%('WARN', msg % args), 'yellow'))\n"
          ]
        }
      ]
    },
    {
      "cell_type": "markdown",
      "metadata": {
        "id": "AyABBtWngM6V"
      },
      "source": [
        "# Helper functions"
      ]
    },
    {
      "cell_type": "code",
      "metadata": {
        "id": "Ze7xdItugM6W"
      },
      "source": [
        "def shift_timestep(step_horizon, t0, state_init, u, f):\n",
        "    f_value = f(state_init, u[:, 0])\n",
        "    next_state = DM.full(state_init + (step_horizon * f_value))\n",
        "\n",
        "    t0 = t0 + step_horizon\n",
        "    u0 = horzcat(\n",
        "        u[:, 1:],\n",
        "        reshape(u[:, -1], -1, 1)\n",
        "    )\n",
        "\n",
        "    return t0, next_state, u0\n",
        "\n",
        "\n",
        "def DM2Arr(dm):\n",
        "    return np.array(dm.full())"
      ],
      "execution_count": 16,
      "outputs": []
    },
    {
      "cell_type": "markdown",
      "metadata": {
        "id": "yYqLH2frgM6W"
      },
      "source": [
        "# State and control variables."
      ]
    },
    {
      "cell_type": "code",
      "metadata": {
        "id": "kaYPHzbLgM6X"
      },
      "source": [
        "# Based on the exapmle \n",
        "# https://github.com/MMehrez/MPC-and-MHE-implementation-in-MATLAB-using-Casadi/blob/master/workshop_github/Python_Implementation/mpc_code.py\n",
        "\n",
        "x = SX.sym(\"x\")\n",
        "xi = SX.sym(\"xi\")\n",
        "x_dot = SX.sym(\"x_dot\")\n",
        "xi_dot = SX.sym(\"xi_dot\")\n",
        "states = vertcat(x, x_dot, xi, xi_dot)\n",
        "n_states = states.numel()\n",
        "force = SX.sym(\"F\")\n",
        "controls = vertcat(force)\n",
        "n_controls = controls.numel()\n"
      ],
      "execution_count": 17,
      "outputs": []
    },
    {
      "cell_type": "markdown",
      "metadata": {
        "id": "m6CwTHnqgM6X"
      },
      "source": [
        ""
      ]
    },
    {
      "cell_type": "markdown",
      "metadata": {
        "id": "o6-LA7VOgM6Z"
      },
      "source": [
        "# MPC and optimal control parameters.\n",
        "\n",
        "---\n",
        "\n"
      ]
    },
    {
      "cell_type": "code",
      "metadata": {
        "id": "ofe7G20igM6Z"
      },
      "source": [
        "# Setting matrix_weights' variables. For objective function??\n",
        "Q_x = 100\n",
        "Q_x_dot = 1\n",
        "Q_xi = 50\n",
        "Q_xi_dot = 1\n",
        "R_1 = 1\n",
        "\n",
        "step_horizon = 0.01 # Time between steps in seconds.\n",
        "N = 10 #int(0.1 / env.dt)  # Prediction horizon.\n",
        "sim_time = 100\n",
        "\n",
        "F_max = 1.25 # Need to add proper force model\n",
        "F_min = 0 \n",
        "\n",
        "# Initial and target values.\n",
        "x_init = 0\n",
        "x_dot_init = 0\n",
        "xi_init = 0\n",
        "xi_dot_init = 0\n",
        "x_target = 0.2\n",
        "x_dot_target = 0\n",
        "xi_target = 0\n",
        "xi_dot_target = 0\n",
        "\n",
        "\n",
        "\n",
        "# A vector that represents the states over the optimization problem.\n",
        "X = SX.sym(\"X\", n_states, (N + 1))\n",
        "# Decision variables (controls)\n",
        "U = SX.sym(\"U\", n_controls, N)\n",
        "# Parameters (which include the initial state and the reference state)\n",
        "P = SX.sym(\"P\", n_states + n_states)\n",
        "# state weights matrix (Q_X, Q_Y, Q_THETA)\n",
        "Q = diagcat(Q_x, Q_x_dot, Q_xi, Q_xi_dot)\n",
        "# controls weights matrix\n",
        "R = diagcat(R_1)"
      ],
      "execution_count": 18,
      "outputs": []
    },
    {
      "cell_type": "markdown",
      "metadata": {
        "id": "8pYv1FqUgM6Y"
      },
      "source": [
        "# Model"
      ]
    },
    {
      "cell_type": "code",
      "metadata": {
        "id": "7mBUKnnhgM6Y"
      },
      "source": [
        "friction = env.friction_model(x_dot)\n",
        "x_acc = (env.stiffness * xi - force + friction) / env.M\n",
        "xi_acc = (-env.stiffness * xi + force) / env.m - x_acc\n",
        "\n",
        "rhs = vertcat(x_dot, x_acc, xi_dot, xi_acc)  # System r.h.s\n",
        "\n",
        "# Nonlinear mapping function f(x,u).\n",
        "f = Function(\"f\", [states, controls], [rhs])"
      ],
      "execution_count": 19,
      "outputs": []
    },
    {
      "cell_type": "code",
      "metadata": {
        "id": "s1ESo99YEfpp"
      },
      "source": [
        "cost_fn = 0 # Cost function.\n",
        "g = X[:, 0] - P[:n_states] # Constraints in the equation. "
      ],
      "execution_count": 20,
      "outputs": []
    },
    {
      "cell_type": "code",
      "metadata": {
        "id": "DmJwArdSEtvC"
      },
      "source": [
        "# Runge kutta.\n",
        "for k in range(N):\n",
        "    st = X[:, k]\n",
        "    con = U[:, k]\n",
        "    cost_fn = cost_fn \\\n",
        "        + (st - P[n_states:]).T @ Q @ (st - P[n_states:]) \\\n",
        "        + con.T @ R @ con\n",
        "    st_next = X[:, k+1]\n",
        "    k1 = f(st, con)\n",
        "    k2 = f(st + step_horizon/2*k1, con)\n",
        "    k3 = f(st + step_horizon/2*k2, con)\n",
        "    k4 = f(st + step_horizon * k3, con)\n",
        "    st_next_RK4 = st + (step_horizon / 6) * (k1 + 2 * k2 + 2 * k3 + k4)\n",
        "    g = vertcat(g, st_next - st_next_RK4)"
      ],
      "execution_count": 21,
      "outputs": []
    },
    {
      "cell_type": "markdown",
      "metadata": {
        "id": "nN5GOSyVgM6a"
      },
      "source": [
        "# Problem solving"
      ]
    },
    {
      "cell_type": "code",
      "metadata": {
        "id": "b1qZ1VZHgM6b"
      },
      "source": [
        "OPT_variables = vertcat(\n",
        "    X.reshape((-1, 1)), U.reshape((-1, 1))  # Example: 3x11 ---> 33x1 where 3=states, 11=N+1\n",
        ")\n",
        "nlp_prob = {\"f\": cost_fn, \"x\": OPT_variables, \"g\": g, \"p\": P}\n",
        "\n",
        "opts = {\n",
        "    \"ipopt\": {\n",
        "        \"max_iter\": 2000,\n",
        "        \"print_level\": 0,\n",
        "        \"acceptable_tol\": 1e-8,\n",
        "        \"acceptable_obj_change_tol\": 1e-6,\n",
        "    },\n",
        "    \"print_time\": 0,\n",
        "}\n",
        "\n",
        "solver = nlpsol(\"solver\", \"ipopt\", nlp_prob, opts)\n",
        "\n",
        "lbx = DM.zeros((n_states * (N + 1) + n_controls * N, 1))\n",
        "ubx = DM.zeros((n_states * (N + 1) + n_controls * N, 1))\n",
        "\n",
        "lbx[0 : n_states * (N + 1) : n_states] = -inf  # X lower bound\n",
        "lbx[1 : n_states * (N + 1) : n_states] = -inf  # x_dot lower bound\n",
        "lbx[2 : n_states * (N + 1) : n_states] = -inf  # xi lower bound\n",
        "lbx[3 : n_states * (N + 1) : n_states] = -inf  # xi_dot lower bound\n",
        "\n",
        "\n",
        "ubx[0 : n_states * (N + 1) : n_states] = inf  # X lower bound\n",
        "ubx[1 : n_states * (N + 1) : n_states] = inf  # x_dot upper bound\n",
        "ubx[2 : n_states * (N + 1) : n_states] = inf  # xi lower bound\n",
        "ubx[3 : n_states * (N + 1) : n_states] = inf  # xi_dot upper bound\n",
        "\n",
        "\n",
        "lbx[n_states * (N + 1) :] = F_min  # v lower bound for F.\n",
        "ubx[n_states * (N + 1) :] = F_max  # v upper bound for F\n",
        "\n",
        "\n",
        "args = {\n",
        "    \"lbg\": DM.zeros((n_states * (N + 1), 1)),  # constraints lower bound\n",
        "    \"ubg\": DM.zeros((n_states * (N + 1), 1)),  # constraints upper bound\n",
        "    \"lbx\": lbx,\n",
        "    \"ubx\": ubx,\n",
        "}"
      ],
      "execution_count": 22,
      "outputs": []
    },
    {
      "cell_type": "code",
      "metadata": {
        "colab": {
          "base_uri": "https://localhost:8080/"
        },
        "id": "YJ_SFR67gM6c",
        "outputId": "c0c4767f-5725-4384-ae11-c905a796ade1"
      },
      "source": [
        "t0 = 0\n",
        "state_init = DM([x_init, x_dot_init, xi_init, xi_dot_init])  # initial state\n",
        "state_target = DM([x_target, x_dot_target, xi_target, xi_dot_target])  # target state\n",
        "\n",
        "t = DM(t0)\n",
        "\n",
        "u0 = DM.zeros((n_controls, N))  # initial control\n",
        "X0 = repmat(state_init, 1, N + 1)  # initial state full\n",
        "\n",
        "\n",
        "mpc_iter = 0\n",
        "cat_states = DM2Arr(X0)\n",
        "cat_controls = DM2Arr(u0[:, 0])\n",
        "times = np.array([[0]])\n",
        "main_loop = time()  # return time in sec\n",
        "age = 0\n",
        "while (norm_2(state_init - state_target) > 1e-1) and (mpc_iter * step_horizon < sim_time):\n",
        "    age += 1\n",
        "    if (age == 100):\n",
        "      break\n",
        "    t1 = time()\n",
        "    args[\"p\"] = vertcat(state_init, state_target)  # current state  # target state\n",
        "    # optimization variable current state\n",
        "    args[\"x0\"] = vertcat(reshape(X0, n_states * (N + 1), 1), reshape(u0, n_controls * N, 1))\n",
        "\n",
        "\n",
        "    sol = solver(\n",
        "        x0=args[\"x0\"],\n",
        "        lbx=args[\"lbx\"],\n",
        "        ubx=args[\"ubx\"],\n",
        "        lbg=args[\"lbg\"],\n",
        "        ubg=args[\"ubg\"],\n",
        "        p=args[\"p\"],\n",
        "    )\n",
        "\n",
        "    u = reshape(sol[\"x\"][n_states * (N + 1) :], n_controls, N)\n",
        "    X0 = reshape(sol[\"x\"][: n_states * (N + 1)], n_states, N + 1)\n",
        "\n",
        "    cat_states = np.dstack((cat_states, DM2Arr(X0)))\n",
        "\n",
        "    cat_controls = np.vstack((cat_controls, DM2Arr(u[:, 0])))\n",
        "    t = np.vstack((t, t0))\n",
        "\n",
        "    t0, state_init, u0 = shift_timestep(step_horizon, t0, state_init, u, f)\n",
        "\n",
        "    X0 = horzcat(X0[:, 1:], reshape(X0[:, -1], -1, 1))\n",
        "    x = float(X0[0,0])\n",
        "    x_dot = float(X0[1,0])\n",
        "    print(\"x:{:.5f}, x_dot:{:.5f} u:{:.2f}\".format(x, x_dot, float(u0[0])))\n",
        "\n",
        "    t2 = time()\n",
        "    times = np.vstack((times, t2 - t1))\n",
        "    mpc_iter = mpc_iter + 1\n",
        "\n",
        "main_loop_time = time()\n",
        "ss_error = norm_2(state_init - state_target)\n",
        "\n",
        "print(\"\\n\\n\")\n",
        "print(\"Total time: \", main_loop_time - main_loop)\n",
        "print(\"avg iteration time: \", np.array(times).mean() * 1000, \"ms\")\n",
        "print(\"final error: \", ss_error)"
      ],
      "execution_count": 23,
      "outputs": [
        {
          "output_type": "stream",
          "name": "stdout",
          "text": [
            "x:-0.00000, x_dot:0.02021 u:0.00\n",
            "x:0.00021, x_dot:-0.00140 u:0.01\n",
            "x:0.00063, x_dot:0.03805 u:0.00\n",
            "x:0.00145, x_dot:-0.01694 u:0.00\n",
            "x:0.00172, x_dot:0.01051 u:0.00\n",
            "x:0.00226, x_dot:-0.04965 u:0.00\n",
            "x:0.00220, x_dot:-0.01407 u:0.00\n",
            "x:0.00249, x_dot:-0.01031 u:0.00\n",
            "x:0.00241, x_dot:0.01903 u:0.30\n",
            "x:0.00304, x_dot:0.01944 u:0.13\n",
            "x:0.00366, x_dot:0.06417 u:0.10\n",
            "x:0.00431, x_dot:0.00848 u:0.10\n",
            "x:0.00480, x_dot:-0.04224 u:0.08\n",
            "x:0.00481, x_dot:-0.04340 u:0.01\n",
            "x:0.00528, x_dot:-0.03078 u:0.00\n",
            "x:0.00499, x_dot:-0.03043 u:0.00\n",
            "x:0.00425, x_dot:-0.05765 u:0.00\n",
            "x:0.00324, x_dot:-0.07905 u:0.00\n",
            "x:0.00245, x_dot:0.06678 u:0.00\n",
            "x:0.00223, x_dot:0.12255 u:0.12\n",
            "x:0.00343, x_dot:0.17993 u:0.37\n",
            "x:0.00514, x_dot:0.20969 u:0.55\n",
            "x:0.00717, x_dot:0.14209 u:0.51\n",
            "x:0.00857, x_dot:-0.02877 u:0.25\n",
            "x:0.00883, x_dot:-0.21060 u:0.00\n",
            "x:0.00504, x_dot:-0.61598 u:0.00\n",
            "x:-0.00112, x_dot:-0.79309 u:0.00\n",
            "x:-0.00905, x_dot:-0.81610 u:0.00\n",
            "x:-0.01722, x_dot:-0.55319 u:0.00\n",
            "x:-0.02275, x_dot:0.00841 u:0.77\n",
            "x:-0.02329, x_dot:0.66950 u:1.25\n",
            "x:-0.01494, x_dot:1.46605 u:1.25\n",
            "x:-0.00028, x_dot:1.72149 u:1.25\n",
            "x:0.01694, x_dot:1.32160 u:1.25\n",
            "x:0.03015, x_dot:0.09704 u:0.00\n",
            "x:0.03234, x_dot:-1.52490 u:0.00\n",
            "x:0.01530, x_dot:-3.47792 u:0.00\n",
            "x:-0.01948, x_dot:-4.52276 u:0.00\n",
            "x:-0.06471, x_dot:-3.99560 u:0.00\n",
            "x:-0.10467, x_dot:-1.34898 u:1.25\n",
            "x:-0.11929, x_dot:2.94510 u:1.25\n",
            "x:-0.08813, x_dot:8.10403 u:1.25\n",
            "x:-0.00709, x_dot:11.63008 u:1.25\n",
            "x:0.10921, x_dot:11.32108 u:1.25\n",
            "x:0.22243, x_dot:5.44102 u:0.00\n",
            "x:0.27684, x_dot:-5.86384 u:0.00\n",
            "x:0.21940, x_dot:-19.63455 u:0.00\n",
            "x:0.02305, x_dot:-30.69147 u:0.00\n",
            "x:-0.28386, x_dot:-32.43706 u:0.00\n",
            "x:-0.60823, x_dot:-19.52790 u:0.00\n",
            "x:-0.80351, x_dot:8.87396 u:1.25\n",
            "x:-0.71597, x_dot:46.44249 u:1.25\n",
            "x:-0.25155, x_dot:79.80827 u:1.25\n",
            "x:0.54653, x_dot:90.97418 u:1.25\n",
            "x:1.45628, x_dot:63.91042 u:1.25\n",
            "x:2.09538, x_dot:-6.73344 u:0.00\n",
            "x:2.02881, x_dot:-107.89330 u:0.00\n",
            "x:0.94808, x_dot:-206.09241 u:0.00\n",
            "x:-1.11284, x_dot:-252.47789 u:0.00\n",
            "x:-3.63762, x_dot:-200.28227 u:0.00\n",
            "x:-5.64044, x_dot:-27.23909 u:1.25\n",
            "x:-5.91405, x_dot:241.41326 u:1.25\n",
            "x:-3.49812, x_dot:523.30422 u:1.25\n",
            "x:1.73492, x_dot:689.28202 u:1.25\n",
            "x:8.62774, x_dot:604.58742 u:1.25\n",
            "x:14.67361, x_dot:189.66703 u:0.00\n",
            "x:16.57150, x_dot:-514.67315 u:0.00\n",
            "x:11.42297, x_dot:-1310.19892 u:0.00\n",
            "x:-1.67902, x_dot:-1859.05601 u:0.00\n",
            "x:-20.26958, x_dot:-1780.44466 u:0.00\n",
            "x:-38.07402, x_dot:-811.40524 u:1.25\n",
            "x:-46.18807, x_dot:1010.40772 u:1.25\n",
            "x:-36.08520, x_dot:3220.66422 u:1.25\n",
            "x:-3.87856, x_dot:4946.91787 u:1.25\n",
            "x:45.59062, x_dot:5130.41401 u:1.25\n",
            "x:96.89476, x_dot:2944.19838 u:0.00\n",
            "x:126.33675, x_dot:-1699.62880 u:0.00\n",
            "x:109.34166, x_dot:-7753.68770 u:0.00\n",
            "x:31.80478, x_dot:-12993.73518 u:0.00\n",
            "x:-98.13257, x_dot:-14519.76444 u:0.00\n",
            "x:-243.33021, x_dot:-9821.64925 u:0.00\n",
            "x:-341.54671, x_dot:1831.60824 u:1.25\n",
            "x:-323.23139, x_dot:18189.42429 u:1.25\n",
            "x:-141.33535, x_dot:33670.03693 u:1.25\n",
            "x:195.36502, x_dot:40437.35559 u:1.25\n",
            "x:599.73858, x_dot:31076.15348 u:1.25\n",
            "x:910.50011, x_dot:2344.71336 u:0.00\n",
            "x:933.94846, x_dot:-41272.54085 u:0.00\n",
            "x:521.22126, x_dot:-86013.24054 u:0.00\n",
            "x:-338.91115, x_dot:-110983.45541 u:0.00\n",
            "x:-1448.74570, x_dot:-94751.83813 u:0.00\n",
            "x:-2396.26408, x_dot:-25357.14899 u:1.25\n",
            "x:-2649.83679, x_dot:89425.13271 u:1.25\n",
            "x:-1755.58367, x_dot:216354.19326 u:1.25\n",
            "x:407.95826, x_dot:300446.74372 u:1.25\n",
            "x:3412.42570, x_dot:280901.69843 u:1.25\n",
            "x:6221.44269, x_dot:117437.13019 u:0.00\n",
            "x:7395.81444, x_dot:-180584.43569 u:0.00\n",
            "x:5589.96993, x_dot:-534860.58990 u:0.00\n",
            "\n",
            "\n",
            "\n",
            "Total time:  1.4375221729278564\n",
            "avg iteration time:  14.204704761505127 ms\n",
            "final error:  2.27773e+06\n"
          ]
        }
      ]
    },
    {
      "cell_type": "code",
      "metadata": {
        "colab": {
          "base_uri": "https://localhost:8080/",
          "height": 575
        },
        "id": "vgiiVbK6gM6e",
        "outputId": "0c006aa7-b90f-4fad-8766-e49107b0552e"
      },
      "source": [
        "fig, axs = plt.subplots(2, 2, sharex=True)  # , sharex=True, sharey=True)\n",
        "fig.set_figwidth(15)\n",
        "fig.suptitle(\"average speed: {:.3}\".format(cat_states[0, 1, -1] / t[-1, 0]))\n",
        "axs[0, 0].plot(t, cat_states[0, 1, :], label=\"x\")\n",
        "axs[0, 0].set_title(\"x\")\n",
        "axs[1, 0].plot(t, cat_states[1, 1, :], label=\"dx\")\n",
        "axs[1, 0].set_title(\"dx\")\n",
        "axs[0, 1].plot(t, cat_states[2, 1, :], label=\"xi\")\n",
        "axs[1, 0].set_title(\"xi\")\n",
        "axs[1, 1].plot(t, cat_states[3, 1, :], label=\"dxi\")\n",
        "axs[1, 1].set_title(\"dxi\")\n",
        "# t_shift = 3\n",
        "# axs[0, 0].set_xlim(t_shift, t_shift + 1)\n",
        "\n",
        "\n",
        "plt.figure()\n",
        "plt.title(\"control\")\n",
        "plt.plot(t, cat_controls[:, 0])\n",
        "plt.legend()\n",
        "plt.show()\n",
        "\n"
      ],
      "execution_count": 24,
      "outputs": [
        {
          "output_type": "stream",
          "name": "stderr",
          "text": [
            "No handles with labels found to put in legend.\n"
          ]
        },
        {
          "output_type": "display_data",
          "data": {
            "image/png": "[encoded data removed]",
            "text/plain": [
              "<Figure size 1080x288 with 4 Axes>"
            ]
          },
          "metadata": {
            "needs_background": "light"
          }
        },
        {
          "output_type": "display_data",
          "data": {
            "image/png": "[encoded data removed]",
            "text/plain": [
              "<Figure size 432x288 with 1 Axes>"
            ]
          },
          "metadata": {
            "needs_background": "light"
          }
        }
      ]
    },
    {
      "cell_type": "code",
      "metadata": {
        "colab": {
          "base_uri": "https://localhost:8080/"
        },
        "id": "aE-mLeacgM6f",
        "outputId": "6d202ba4-6b8c-4cda-c342-c9a609e3dc8e"
      },
      "source": [
        "cat_controls.shape"
      ],
      "execution_count": 25,
      "outputs": [
        {
          "output_type": "execute_result",
          "data": {
            "text/plain": [
              "(100, 1)"
            ]
          },
          "metadata": {},
          "execution_count": 25
        }
      ]
    },
    {
      "cell_type": "code",
      "metadata": {
        "id": "g2bSRZt6XGZl",
        "outputId": "fe087bc6-1c2e-41b9-a361-d0b54acc5664",
        "colab": {
          "base_uri": "https://localhost:8080/"
        }
      },
      "source": [
        "cat_controls[:, 0]"
      ],
      "execution_count": 26,
      "outputs": [
        {
          "output_type": "execute_result",
          "data": {
            "text/plain": [
              "array([0.00000000e+00, 1.75723401e-02, 1.42960869e-02, 1.19031559e-02,\n",
              "       9.43797592e-08, 8.56082839e-09, 0.00000000e+00, 0.00000000e+00,\n",
              "       3.91169521e-02, 0.00000000e+00, 4.96392387e-09, 4.41598054e-02,\n",
              "       1.63765613e-02, 1.47390128e-01, 1.72475325e-01, 1.00192792e-01,\n",
              "       1.30998195e-02, 0.00000000e+00, 0.00000000e+00, 0.00000000e+00,\n",
              "       0.00000000e+00, 9.84662774e-02, 4.47072581e-01, 7.37477614e-01,\n",
              "       8.06116974e-01, 4.30837274e-01, 0.00000000e+00, 0.00000000e+00,\n",
              "       0.00000000e+00, 0.00000000e+00, 0.00000000e+00, 6.87711093e-01,\n",
              "       1.25000000e+00, 1.25000000e+00, 1.25000000e+00, 1.25000000e+00,\n",
              "       0.00000000e+00, 0.00000000e+00, 0.00000000e+00, 0.00000000e+00,\n",
              "       0.00000000e+00, 9.09755318e-01, 1.25000000e+00, 1.25000000e+00,\n",
              "       1.25000000e+00, 1.25000000e+00, 1.25000000e+00, 0.00000000e+00,\n",
              "       0.00000000e+00, 0.00000000e+00, 0.00000000e+00, 0.00000000e+00,\n",
              "       1.25000000e+00, 1.25000000e+00, 1.25000000e+00, 1.25000000e+00,\n",
              "       1.25000000e+00, 0.00000000e+00, 0.00000000e+00, 0.00000000e+00,\n",
              "       0.00000000e+00, 0.00000000e+00, 1.25000000e+00, 1.25000000e+00,\n",
              "       1.25000000e+00, 1.25000000e+00, 1.25000000e+00, 0.00000000e+00,\n",
              "       0.00000000e+00, 0.00000000e+00, 0.00000000e+00, 0.00000000e+00,\n",
              "       0.00000000e+00, 1.25000000e+00, 1.25000000e+00, 1.25000000e+00,\n",
              "       1.25000000e+00, 1.25000000e+00, 0.00000000e+00, 0.00000000e+00,\n",
              "       0.00000000e+00, 0.00000000e+00, 0.00000000e+00, 1.25000000e+00,\n",
              "       1.25000000e+00, 1.25000000e+00, 1.25000000e+00, 1.25000000e+00,\n",
              "       0.00000000e+00, 0.00000000e+00, 0.00000000e+00, 0.00000000e+00,\n",
              "       0.00000000e+00, 1.25000000e+00, 1.25000000e+00, 1.25000000e+00,\n",
              "       1.25000000e+00, 1.25000000e+00, 1.25000000e+00, 0.00000000e+00])"
            ]
          },
          "metadata": {},
          "execution_count": 26
        }
      ]
    },
    {
      "cell_type": "code",
      "metadata": {
        "id": "MfHpfQlnXU-N",
        "outputId": "1b70cc5d-2f6a-432e-91e5-fb8231e9fac3",
        "colab": {
          "base_uri": "https://localhost:8080/"
        }
      },
      "source": [
        "cat_controls[:, :]"
      ],
      "execution_count": 27,
      "outputs": [
        {
          "output_type": "execute_result",
          "data": {
            "text/plain": [
              "array([[0.00000000e+00],\n",
              "       [1.75723401e-02],\n",
              "       [1.42960869e-02],\n",
              "       [1.19031559e-02],\n",
              "       [9.43797592e-08],\n",
              "       [8.56082839e-09],\n",
              "       [0.00000000e+00],\n",
              "       [0.00000000e+00],\n",
              "       [3.91169521e-02],\n",
              "       [0.00000000e+00],\n",
              "       [4.96392387e-09],\n",
              "       [4.41598054e-02],\n",
              "       [1.63765613e-02],\n",
              "       [1.47390128e-01],\n",
              "       [1.72475325e-01],\n",
              "       [1.00192792e-01],\n",
              "       [1.30998195e-02],\n",
              "       [0.00000000e+00],\n",
              "       [0.00000000e+00],\n",
              "       [0.00000000e+00],\n",
              "       [0.00000000e+00],\n",
              "       [9.84662774e-02],\n",
              "       [4.47072581e-01],\n",
              "       [7.37477614e-01],\n",
              "       [8.06116974e-01],\n",
              "       [4.30837274e-01],\n",
              "       [0.00000000e+00],\n",
              "       [0.00000000e+00],\n",
              "       [0.00000000e+00],\n",
              "       [0.00000000e+00],\n",
              "       [0.00000000e+00],\n",
              "       [6.87711093e-01],\n",
              "       [1.25000000e+00],\n",
              "       [1.25000000e+00],\n",
              "       [1.25000000e+00],\n",
              "       [1.25000000e+00],\n",
              "       [0.00000000e+00],\n",
              "       [0.00000000e+00],\n",
              "       [0.00000000e+00],\n",
              "       [0.00000000e+00],\n",
              "       [0.00000000e+00],\n",
              "       [9.09755318e-01],\n",
              "       [1.25000000e+00],\n",
              "       [1.25000000e+00],\n",
              "       [1.25000000e+00],\n",
              "       [1.25000000e+00],\n",
              "       [1.25000000e+00],\n",
              "       [0.00000000e+00],\n",
              "       [0.00000000e+00],\n",
              "       [0.00000000e+00],\n",
              "       [0.00000000e+00],\n",
              "       [0.00000000e+00],\n",
              "       [1.25000000e+00],\n",
              "       [1.25000000e+00],\n",
              "       [1.25000000e+00],\n",
              "       [1.25000000e+00],\n",
              "       [1.25000000e+00],\n",
              "       [0.00000000e+00],\n",
              "       [0.00000000e+00],\n",
              "       [0.00000000e+00],\n",
              "       [0.00000000e+00],\n",
              "       [0.00000000e+00],\n",
              "       [1.25000000e+00],\n",
              "       [1.25000000e+00],\n",
              "       [1.25000000e+00],\n",
              "       [1.25000000e+00],\n",
              "       [1.25000000e+00],\n",
              "       [0.00000000e+00],\n",
              "       [0.00000000e+00],\n",
              "       [0.00000000e+00],\n",
              "       [0.00000000e+00],\n",
              "       [0.00000000e+00],\n",
              "       [0.00000000e+00],\n",
              "       [1.25000000e+00],\n",
              "       [1.25000000e+00],\n",
              "       [1.25000000e+00],\n",
              "       [1.25000000e+00],\n",
              "       [1.25000000e+00],\n",
              "       [0.00000000e+00],\n",
              "       [0.00000000e+00],\n",
              "       [0.00000000e+00],\n",
              "       [0.00000000e+00],\n",
              "       [0.00000000e+00],\n",
              "       [1.25000000e+00],\n",
              "       [1.25000000e+00],\n",
              "       [1.25000000e+00],\n",
              "       [1.25000000e+00],\n",
              "       [1.25000000e+00],\n",
              "       [0.00000000e+00],\n",
              "       [0.00000000e+00],\n",
              "       [0.00000000e+00],\n",
              "       [0.00000000e+00],\n",
              "       [0.00000000e+00],\n",
              "       [1.25000000e+00],\n",
              "       [1.25000000e+00],\n",
              "       [1.25000000e+00],\n",
              "       [1.25000000e+00],\n",
              "       [1.25000000e+00],\n",
              "       [1.25000000e+00],\n",
              "       [0.00000000e+00]])"
            ]
          },
          "metadata": {},
          "execution_count": 27
        }
      ]
    },
    {
      "cell_type": "code",
      "metadata": {
        "id": "o0e_E0iQXm3U"
      },
      "source": [
        ""
      ],
      "execution_count": 27,
      "outputs": []
    }
  ]
}