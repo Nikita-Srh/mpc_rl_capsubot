{
  "nbformat": 4,
  "nbformat_minor": 0,
  "metadata": {
    "orig_nbformat": 4,
    "language_info": {
      "name": "python",
      "version": "3.8.10",
      "mimetype": "text/x-python",
      "codemirror_mode": {
        "name": "ipython",
        "version": 3
      },
      "pygments_lexer": "ipython3",
      "nbconvert_exporter": "python",
      "file_extension": ".py"
    },
    "kernelspec": {
      "name": "python3",
      "display_name": "Python 3.8.10 64-bit"
    },
    "interpreter": {
      "hash": "916dbcbb3f70747c44a77c7bcd40155683ae19c65e1c03b4aa3499c5328201f1"
    },
    "colab": {
      "name": "example_mpc.ipynb",
      "provenance": []
    }
  },
  "cells": [
    {
      "cell_type": "markdown",
      "metadata": {
        "id": "Sv7hwjmvgM6O"
      },
      "source": [
        "# Example of model usage"
      ]
    },
    {
      "cell_type": "code",
      "metadata": {
        "colab": {
          "base_uri": "https://localhost:8080/"
        },
        "id": "A1wkfTsigM6U",
        "outputId": "fbf05280-7586-4d57-c869-13f850d6c7f2"
      },
      "source": [
        "#%matplotlib\n",
        "if 'google.colab' in str(get_ipython()):\n",
        "  import os\n",
        "  if (os.path.split(os.getcwd())[-1] != 'mpc_rl_capsubot'):\n",
        "    import os\n",
        "    !git clone https://github.com/xxFirefly/mpc_rl_capsubot  \n",
        "    !pip install casadi==3.5.5\n",
        "    os.chdir(\"mpc_rl_capsubot\")\n",
        "  !pip install -q --upgrade ipython\n",
        "  !pip install -q --upgrade ipykernel\n",
        "  !git pull\n",
        "\n",
        "from envs.CapsubotEnv import CapsubotEnv\n",
        "import numpy as np\n",
        "from time import time\n",
        "import matplotlib.pyplot as plt\n",
        "import scipy.constants\n",
        "\n",
        "# https://github.com/MMehrez/MPC-and-MHE-implementation-in-MATLAB-using-Casadi/blob/master/workshop_github/Python_Implementation/mpc_code.py\n",
        "\n",
        "# pip install casadi\n",
        "from casadi import *\n",
        "\n",
        "try:\n",
        "    env.close()\n",
        "except Exception:\n",
        "    pass\n",
        "\n",
        "env = CapsubotEnv()"
      ],
      "execution_count": 11,
      "outputs": [
        {
          "output_type": "stream",
          "name": "stdout",
          "text": [
            "Already up to date.\n"
          ]
        }
      ]
    },
    {
      "cell_type": "markdown",
      "metadata": {
        "id": "AyABBtWngM6V"
      },
      "source": [
        "# Helper functions"
      ]
    },
    {
      "cell_type": "code",
      "metadata": {
        "id": "Ze7xdItugM6W"
      },
      "source": [
        "def shift_timestep(step_horizon, t0, state_init, u, f):\n",
        "    f_value = f(state_init, u[:, 0])\n",
        "    next_state = DM.full(state_init + (step_horizon * f_value))\n",
        "\n",
        "    t0 = t0 + step_horizon\n",
        "    u0 = horzcat(\n",
        "        u[:, 1:],\n",
        "        reshape(u[:, -1], -1, 1)\n",
        "    )\n",
        "\n",
        "    return t0, next_state, u0\n",
        "\n",
        "\n",
        "def DM2Arr(dm):\n",
        "    return np.array(dm.full())"
      ],
      "execution_count": 12,
      "outputs": []
    },
    {
      "cell_type": "markdown",
      "metadata": {
        "id": "yYqLH2frgM6W"
      },
      "source": [
        "# State and control variables."
      ]
    },
    {
      "cell_type": "code",
      "metadata": {
        "id": "kaYPHzbLgM6X"
      },
      "source": [
        "# Based on the exapmle \n",
        "# https://github.com/MMehrez/MPC-and-MHE-implementation-in-MATLAB-using-Casadi/blob/master/workshop_github/Python_Implementation/mpc_code.py\n",
        "\n",
        "x = SX.sym(\"x\")\n",
        "xi = SX.sym(\"xi\")\n",
        "x_dot = SX.sym(\"x_dot\")\n",
        "xi_dot = SX.sym(\"xi_dot\")\n",
        "states = vertcat(x, x_dot, xi, xi_dot)\n",
        "n_states = states.numel()\n",
        "force = SX.sym(\"F\")\n",
        "controls = vertcat(force)\n",
        "n_controls = controls.numel()\n"
      ],
      "execution_count": 13,
      "outputs": []
    },
    {
      "cell_type": "markdown",
      "metadata": {
        "id": "m6CwTHnqgM6X"
      },
      "source": [
        ""
      ]
    },
    {
      "cell_type": "markdown",
      "metadata": {
        "id": "o6-LA7VOgM6Z"
      },
      "source": [
        "# MPC and optimal control parameters.\n",
        "\n",
        "---\n",
        "\n"
      ]
    },
    {
      "cell_type": "code",
      "metadata": {
        "id": "ofe7G20igM6Z"
      },
      "source": [
        "# Setting matrix_weights' variables. For objective function??\n",
        "Q_x = 100\n",
        "Q_x_dot = 1\n",
        "Q_xi = 1\n",
        "Q_xi_dot = 1\n",
        "R_1 = 1\n",
        "\n",
        "step_horizon = 0.01 # env.dt # Time between steps in seconds.\n",
        "N = 10 #int(0.1 / env.dt)  # Prediction horizon.\n",
        "sim_time = 1\n",
        "\n",
        "F_max = 1.25 # Need to add proper force model\n",
        "F_min = 0 \n",
        "\n",
        "# Initial and target values.\n",
        "x_init = 0\n",
        "x_dot_init = 0\n",
        "xi_init = 0\n",
        "xi_dot_init = 0\n",
        "x_target = 1\n",
        "x_dot_target = 0\n",
        "xi_target = 0\n",
        "xi_dot_target = 0\n",
        "\n",
        "\n",
        "\n",
        "# A vector that represents the states over the optimization problem.\n",
        "X = SX.sym(\"X\", n_states, (N + 1))\n",
        "# Decision variables (controls)\n",
        "U = SX.sym(\"U\", n_controls, N)\n",
        "# Parameters (which include the initial state and the reference state)\n",
        "P = SX.sym(\"P\", n_states + n_states)\n",
        "# state weights matrix (Q_X, Q_Y, Q_THETA)\n",
        "Q = diagcat(Q_x, Q_x_dot, Q_xi, Q_xi_dot)\n",
        "# controls weights matrix\n",
        "R = diagcat(R_1)"
      ],
      "execution_count": 14,
      "outputs": []
    },
    {
      "cell_type": "markdown",
      "metadata": {
        "id": "8pYv1FqUgM6Y"
      },
      "source": [
        "# Model"
      ]
    },
    {
      "cell_type": "code",
      "metadata": {
        "id": "7mBUKnnhgM6Y"
      },
      "source": [
        "friction = env.friction_model(x_dot)\n",
        "x_acc = (env.stiffness * xi - force + friction) / env.M\n",
        "xi_acc = (-env.stiffness * xi + force) / env.m - x_acc\n",
        "\n",
        "rhs = vertcat(x_dot, x_acc, xi_dot, xi_acc)  # System r.h.s\n",
        "\n",
        "# Nonlinear mapping function f(x,u).\n",
        "f = Function(\"f\", [states, controls], [rhs])"
      ],
      "execution_count": 15,
      "outputs": []
    },
    {
      "cell_type": "code",
      "metadata": {
        "id": "s1ESo99YEfpp"
      },
      "source": [
        "cost_fn = 0 # Cost function.\n",
        "g = X[:, 0] - P[:n_states] # Constraints in the equation. "
      ],
      "execution_count": 16,
      "outputs": []
    },
    {
      "cell_type": "code",
      "metadata": {
        "id": "DmJwArdSEtvC"
      },
      "source": [
        "# Runge kutta.\n",
        "for k in range(N):\n",
        "    st = X[:, k]\n",
        "    con = U[:, k]\n",
        "    cost_fn = cost_fn \\\n",
        "        + (st - P[n_states:]).T @ Q @ (st - P[n_states:]) \\\n",
        "        + con.T @ R @ con\n",
        "    st_next = X[:, k+1]\n",
        "    k1 = f(st, con)\n",
        "    k2 = f(st + step_horizon/2*k1, con)\n",
        "    k3 = f(st + step_horizon/2*k2, con)\n",
        "    k4 = f(st + step_horizon * k3, con)\n",
        "    st_next_RK4 = st + (step_horizon / 6) * (k1 + 2 * k2 + 2 * k3 + k4)\n",
        "    g = vertcat(g, st_next - st_next_RK4)"
      ],
      "execution_count": 17,
      "outputs": []
    },
    {
      "cell_type": "markdown",
      "metadata": {
        "id": "nN5GOSyVgM6a"
      },
      "source": [
        "# Problem solving"
      ]
    },
    {
      "cell_type": "code",
      "metadata": {
        "id": "b1qZ1VZHgM6b"
      },
      "source": [
        "OPT_variables = vertcat(\n",
        "    X.reshape((-1, 1)), U.reshape((-1, 1))  # Example: 3x11 ---> 33x1 where 3=states, 11=N+1\n",
        ")\n",
        "nlp_prob = {\"f\": cost_fn, \"x\": OPT_variables, \"g\": g, \"p\": P}\n",
        "\n",
        "opts = {\n",
        "    \"ipopt\": {\n",
        "        \"max_iter\": 2000,\n",
        "        \"print_level\": 0,\n",
        "        \"acceptable_tol\": 1e-8,\n",
        "        \"acceptable_obj_change_tol\": 1e-6,\n",
        "    },\n",
        "    \"print_time\": 0,\n",
        "}\n",
        "\n",
        "solver = nlpsol(\"solver\", \"ipopt\", nlp_prob, opts)\n",
        "\n",
        "lbx = DM.zeros((n_states * (N + 1) + n_controls * N, 1))\n",
        "ubx = DM.zeros((n_states * (N + 1) + n_controls * N, 1))\n",
        "\n",
        "lbx[0 : n_states * (N + 1) : n_states] = -inf  # X lower bound\n",
        "lbx[1 : n_states * (N + 1) : n_states] = -inf  # x_dot lower bound\n",
        "lbx[2 : n_states * (N + 1) : n_states] = -inf  # xi lower bound\n",
        "lbx[3 : n_states * (N + 1) : n_states] = -inf  # xi_dot lower bound\n",
        "\n",
        "\n",
        "ubx[0 : n_states * (N + 1) : n_states] = inf  # X lower bound\n",
        "ubx[1 : n_states * (N + 1) : n_states] = inf  # x_dot upper bound\n",
        "ubx[2 : n_states * (N + 1) : n_states] = inf  # xi lower bound\n",
        "ubx[3 : n_states * (N + 1) : n_states] = inf  # xi_dot upper bound\n",
        "\n",
        "\n",
        "lbx[n_states * (N + 1) :] = F_min  # v lower bound for F.\n",
        "ubx[n_states * (N + 1) :] = F_max  # v upper bound for F\n",
        "\n",
        "\n",
        "args = {\n",
        "    \"lbg\": DM.zeros((n_states * (N + 1), 1)),  # constraints lower bound\n",
        "    \"ubg\": DM.zeros((n_states * (N + 1), 1)),  # constraints upper bound\n",
        "    \"lbx\": lbx,\n",
        "    \"ubx\": ubx,\n",
        "}"
      ],
      "execution_count": 18,
      "outputs": []
    },
    {
      "cell_type": "code",
      "metadata": {
        "colab": {
          "base_uri": "https://localhost:8080/"
        },
        "id": "YJ_SFR67gM6c",
        "outputId": "0442759a-65e5-414b-f9e7-3aa1ea6a567e"
      },
      "source": [
        "t0 = 0\n",
        "state_init = DM([x_init, x_dot_init, xi_init, xi_dot_init])  # initial state\n",
        "state_target = DM([x_target, x_dot_target, xi_target, xi_dot_target])  # target state\n",
        "\n",
        "t = DM(t0)\n",
        "\n",
        "u0 = DM.zeros((n_controls, N))  # initial control\n",
        "X0 = repmat(state_init, 1, N + 1)  # initial state full\n",
        "\n",
        "\n",
        "mpc_iter = 0\n",
        "cat_states = DM2Arr(X0)\n",
        "cat_controls = DM2Arr(u0[:, 0])\n",
        "times = np.array([[0]])\n",
        "main_loop = time()  # return time in sec\n",
        "age = 0\n",
        "while (norm_2(state_init - state_target) > 1e-1) and (mpc_iter * step_horizon < sim_time):\n",
        "    age += 1\n",
        "    if (age == 1000):\n",
        "      break\n",
        "    t1 = time()\n",
        "    args[\"p\"] = vertcat(state_init, state_target)  # current state  # target state\n",
        "    # optimization variable current state\n",
        "    args[\"x0\"] = vertcat(reshape(X0, n_states * (N + 1), 1), reshape(u0, n_controls * N, 1))\n",
        "\n",
        "\n",
        "    sol = solver(\n",
        "        x0=args[\"x0\"],\n",
        "        lbx=args[\"lbx\"],\n",
        "        ubx=args[\"ubx\"],\n",
        "        lbg=args[\"lbg\"],\n",
        "        ubg=args[\"ubg\"],\n",
        "        p=args[\"p\"],\n",
        "    )\n",
        "\n",
        "    u = reshape(sol[\"x\"][n_states * (N + 1) :], n_controls, N)\n",
        "    X0 = reshape(sol[\"x\"][: n_states * (N + 1)], n_states, N + 1)\n",
        "\n",
        "    cat_states = np.dstack((cat_states, DM2Arr(X0)))\n",
        "\n",
        "    cat_controls = np.vstack((cat_controls, DM2Arr(u[:, 0])))\n",
        "    t = np.vstack((t, t0))\n",
        "\n",
        "    t0, state_init, u0 = shift_timestep(step_horizon, t0, state_init, u, f)\n",
        "\n",
        "    X0 = horzcat(X0[:, 1:], reshape(X0[:, -1], -1, 1))\n",
        "    x = float(X0[0,0])\n",
        "    x_dot = float(X0[1,0])\n",
        "    print(\"x:{:.5f}, x_dot:{:.5f} u:{:.2f}\".format(x, x_dot, float(u0[0])))\n",
        "\n",
        "    t2 = time()\n",
        "    times = np.vstack((times, t2 - t1))\n",
        "    mpc_iter = mpc_iter + 1\n",
        "\n",
        "main_loop_time = time()\n",
        "ss_error = norm_2(state_init - state_target)\n",
        "\n",
        "print(\"\\n\\n\")\n",
        "print(\"Total time: \", main_loop_time - main_loop)\n",
        "print(\"avg iteration time: \", np.array(times).mean() * 1000, \"ms\")\n",
        "print(\"final error: \", ss_error)"
      ],
      "execution_count": 19,
      "outputs": [
        {
          "output_type": "stream",
          "name": "stdout",
          "text": [
            "x:-0.00011, x_dot:-0.00002 u:0.00\n",
            "x:0.00001, x_dot:-0.01768 u:0.00\n",
            "x:0.00027, x_dot:0.03201 u:0.00\n",
            "x:0.00102, x_dot:-0.00555 u:0.06\n",
            "x:0.00140, x_dot:0.04189 u:0.00\n",
            "x:0.00182, x_dot:-0.00346 u:0.00\n",
            "x:0.00135, x_dot:-0.00170 u:0.08\n",
            "x:0.00089, x_dot:0.00690 u:0.00\n",
            "x:0.00139, x_dot:0.01588 u:0.00\n",
            "x:0.00198, x_dot:0.01320 u:0.05\n",
            "x:0.00166, x_dot:-0.00041 u:0.00\n",
            "x:0.00124, x_dot:-0.00693 u:0.00\n",
            "x:0.00161, x_dot:0.03073 u:0.00\n",
            "x:0.00235, x_dot:-0.02398 u:0.00\n",
            "x:0.00255, x_dot:0.00741 u:0.00\n",
            "x:0.00306, x_dot:-0.04542 u:0.00\n",
            "x:0.00305, x_dot:-0.00098 u:0.00\n",
            "x:0.00347, x_dot:-0.03051 u:0.00\n",
            "x:0.00359, x_dot:0.03887 u:0.38\n",
            "x:0.00443, x_dot:0.02993 u:0.04\n",
            "x:0.00514, x_dot:0.05287 u:0.09\n",
            "x:0.00609, x_dot:0.05035 u:0.05\n",
            "x:0.00619, x_dot:-0.01418 u:0.07\n",
            "x:0.00563, x_dot:-0.00488 u:0.00\n",
            "x:0.00515, x_dot:-0.04453 u:0.00\n",
            "x:0.00465, x_dot:-0.00022 u:0.00\n",
            "x:0.00427, x_dot:0.03604 u:0.00\n",
            "x:0.00419, x_dot:0.01676 u:0.00\n",
            "x:0.00347, x_dot:0.03549 u:0.04\n",
            "x:0.00417, x_dot:0.06344 u:0.18\n",
            "x:0.00529, x_dot:0.14077 u:0.19\n",
            "x:0.00667, x_dot:0.04296 u:0.21\n",
            "x:0.00754, x_dot:0.00936 u:0.10\n",
            "x:0.00722, x_dot:-0.08639 u:0.00\n",
            "x:0.00641, x_dot:-0.08688 u:0.00\n",
            "x:0.00554, x_dot:-0.09357 u:0.00\n",
            "x:0.00461, x_dot:-0.05879 u:0.00\n",
            "x:0.00402, x_dot:0.02256 u:0.00\n",
            "x:0.00379, x_dot:0.09336 u:0.00\n",
            "x:0.00652, x_dot:0.40827 u:0.39\n",
            "x:0.01049, x_dot:0.52572 u:0.70\n",
            "x:0.01564, x_dot:0.57091 u:0.84\n",
            "x:0.02128, x_dot:0.44845 u:0.52\n",
            "x:0.02581, x_dot:0.11062 u:0.00\n",
            "x:0.02758, x_dot:-0.27017 u:0.00\n",
            "x:0.02447, x_dot:-0.75081 u:0.00\n",
            "x:0.01697, x_dot:-1.01217 u:0.00\n",
            "x:0.00684, x_dot:-0.96086 u:0.00\n",
            "x:-0.00276, x_dot:-0.42471 u:0.00\n",
            "x:-0.00746, x_dot:0.48301 u:1.25\n",
            "x:-0.00248, x_dot:1.63452 u:1.25\n",
            "x:0.01387, x_dot:2.51595 u:1.25\n",
            "x:0.03903, x_dot:2.70835 u:1.25\n",
            "x:0.06611, x_dot:1.74253 u:0.74\n",
            "x:0.08354, x_dot:-0.47542 u:0.00\n",
            "x:0.07998, x_dot:-3.34057 u:0.00\n",
            "x:0.04658, x_dot:-6.02608 u:0.00\n",
            "x:-0.01368, x_dot:-7.15837 u:0.00\n",
            "x:-0.08527, x_dot:-5.40407 u:0.00\n",
            "x:-0.13931, x_dot:-0.17380 u:1.25\n",
            "x:-0.14226, x_dot:7.45635 u:1.25\n",
            "x:-0.06591, x_dot:15.50128 u:1.25\n",
            "x:0.08911, x_dot:19.84369 u:1.25\n",
            "x:0.28754, x_dot:16.90162 u:1.25\n",
            "x:0.45656, x_dot:4.54799 u:0.00\n",
            "x:0.50326, x_dot:-15.57214 u:0.00\n",
            "x:0.34574, x_dot:-38.06146 u:0.00\n",
            "x:-0.03487, x_dot:-52.81974 u:0.00\n",
            "x:-0.56307, x_dot:-49.34587 u:0.00\n",
            "x:-1.05653, x_dot:-20.52341 u:1.25\n",
            "x:-1.26222, x_dot:31.89490 u:1.25\n",
            "x:-0.94311, x_dot:94.23164 u:1.25\n",
            "x:-0.00079, x_dot:141.29838 u:1.25\n",
            "x:1.41219, x_dot:143.36736 u:1.25\n",
            "x:2.84586, x_dot:77.84574 u:0.00\n",
            "x:3.62432, x_dot:-56.25928 u:0.00\n",
            "x:3.06293, x_dot:-227.41937 u:0.00\n",
            "x:0.78873, x_dot:-371.63135 u:0.00\n",
            "x:-2.92758, x_dot:-406.90526 u:0.00\n",
            "x:-6.99663, x_dot:-264.11394 u:0.00\n",
            "x:-9.63777, x_dot:73.64121 u:1.25\n",
            "x:-8.90256, x_dot:537.81824 u:1.25\n",
            "x:-3.52438, x_dot:966.86180 u:1.25\n",
            "x:6.14424, x_dot:1138.42143 u:1.25\n",
            "x:17.52846, x_dot:846.93041 u:1.25\n",
            "x:25.99776, x_dot:10.16153 u:0.00\n",
            "x:26.10059, x_dot:-1232.01992 u:0.00\n",
            "x:13.77860, x_dot:-2479.30652 u:0.00\n",
            "x:-11.01447, x_dot:-3136.20816 u:0.00\n",
            "x:-42.37655, x_dot:-2605.52330 u:0.00\n",
            "x:-68.43178, x_dot:-572.53698 u:1.25\n",
            "x:-74.15837, x_dot:2708.30724 u:1.25\n",
            "x:-47.07350, x_dot:6263.69177 u:1.25\n",
            "x:15.56342, x_dot:8521.56948 u:1.25\n",
            "x:100.77911, x_dot:7779.11744 u:1.25\n",
            "x:178.57028, x_dot:2954.72367 u:0.00\n",
            "x:208.11874, x_dot:-5595.72792 u:0.00\n",
            "x:152.15966, x_dot:-15561.78414 u:0.00\n",
            "x:-3.45818, x_dot:-22847.15891 u:0.00\n",
            "x:-231.92977, x_dot:-22678.19950 u:0.00\n",
            "\n",
            "\n",
            "\n",
            "Total time:  1.478966236114502\n",
            "avg iteration time:  14.48480209501663 ms\n",
            "final error:  109218\n"
          ]
        }
      ]
    },
    {
      "cell_type": "code",
      "metadata": {
        "colab": {
          "base_uri": "https://localhost:8080/",
          "height": 575
        },
        "id": "vgiiVbK6gM6e",
        "outputId": "d38ca518-a42a-4989-96ce-156083f993f8"
      },
      "source": [
        "fig, axs = plt.subplots(2, 2, sharex=True)  # , sharex=True, sharey=True)\n",
        "fig.set_figwidth(15)\n",
        "fig.suptitle(\"average speed: {:.3}\".format(cat_states[0, 1, -1] / t[-1, 0]))\n",
        "axs[0, 0].plot(t, cat_states[0, 1, :], label=\"x\")\n",
        "axs[0, 0].set_title(\"x\")\n",
        "axs[1, 0].plot(t, cat_states[1, 1, :], label=\"dx\")\n",
        "axs[1, 0].set_title(\"dx\")\n",
        "axs[0, 1].plot(t, cat_states[2, 1, :], label=\"xi\")\n",
        "axs[0, 1].set_title(\"xi\")\n",
        "axs[1, 1].plot(t, cat_states[3, 1, :], label=\"dxi\")\n",
        "axs[1, 1].set_title(\"dxi\")\n",
        "# t_shift = 3\n",
        "# axs[0, 0].set_xlim(t_shift, t_shift + 1)\n",
        "\n",
        "\n",
        "plt.figure()\n",
        "plt.title(\"control\")\n",
        "plt.plot(t, cat_controls[:, 0])\n",
        "plt.legend()\n",
        "plt.show()\n",
        "\n"
      ],
      "execution_count": 31,
      "outputs": [
        {
          "output_type": "stream",
          "name": "stderr",
          "text": [
            "No handles with labels found to put in legend.\n"
          ]
        },
        {
          "output_type": "display_data",
          "data": {
            "image/png": "[encoded data removed]",
            "text/plain": [
              "<Figure size 1080x288 with 4 Axes>"
            ]
          },
          "metadata": {
            "needs_background": "light"
          }
        },
        {
          "output_type": "display_data",
          "data": {
            "image/png": "[encoded data removed]",
            "text/plain": [
              "<Figure size 432x288 with 1 Axes>"
            ]
          },
          "metadata": {
            "needs_background": "light"
          }
        }
      ]
    },
    {
      "cell_type": "code",
      "metadata": {
        "id": "o0e_E0iQXm3U"
      },
      "source": [
        ""
      ],
      "execution_count": 23,
      "outputs": []
    }
  ]
}