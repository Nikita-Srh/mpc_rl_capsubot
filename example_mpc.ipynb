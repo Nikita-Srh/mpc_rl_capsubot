{
  "cells": [
    {
      "cell_type": "markdown",
      "metadata": {
        "id": "Sv7hwjmvgM6O"
      },
      "source": [
        "# Example of model usage"
      ]
    },
    {
      "cell_type": "code",
      "execution_count": 1,
      "metadata": {
        "colab": {
          "base_uri": "https://localhost:8080/"
        },
        "id": "A1wkfTsigM6U",
        "outputId": "fbf05280-7586-4d57-c869-13f850d6c7f2"
      },
      "outputs": [
        {
          "name": "stderr",
          "output_type": "stream",
          "text": [
            "/home/xfirefly/.local/lib/python3.8/site-packages/gym/logger.py:30: UserWarning: \u001b[33mWARN: Box bound precision lowered by casting to float32\u001b[0m\n",
            "  warnings.warn(colorize('%s: %s'%('WARN', msg % args), 'yellow'))\n"
          ]
        }
      ],
      "source": [
        "#%matplotlib\n",
        "if 'google.colab' in str(get_ipython()):\n",
        "  import os\n",
        "  if (os.path.split(os.getcwd())[-1] != 'mpc_rl_capsubot'):\n",
        "    import os\n",
        "    !git clone https://github.com/xxFirefly/mpc_rl_capsubot  \n",
        "    !pip install casadi==3.5.5\n",
        "    os.chdir(\"mpc_rl_capsubot\")\n",
        "  !pip install -q --upgrade ipython\n",
        "  !pip install -q --upgrade ipykernel\n",
        "  !git pull\n",
        "\n",
        "from envs.CapsubotEnv import CapsubotEnv\n",
        "import numpy as np\n",
        "from time import time\n",
        "import matplotlib.pyplot as plt\n",
        "import scipy.constants\n",
        "\n",
        "# https://github.com/MMehrez/MPC-and-MHE-implementation-in-MATLAB-using-Casadi/blob/master/workshop_github/Python_Implementation/mpc_code.py\n",
        "\n",
        "# pip install casadi\n",
        "from casadi import *\n",
        "\n",
        "try:\n",
        "    env.close()\n",
        "except Exception:\n",
        "    pass\n",
        "\n",
        "env = CapsubotEnv()"
      ]
    },
    {
      "cell_type": "markdown",
      "metadata": {
        "id": "AyABBtWngM6V"
      },
      "source": [
        "# Helper functions"
      ]
    },
    {
      "cell_type": "code",
      "execution_count": 2,
      "metadata": {
        "id": "Ze7xdItugM6W"
      },
      "outputs": [],
      "source": [
        "def shift_timestep(step_horizon, t0, state_init, u, f):\n",
        "    f_value = f(state_init, u[:, 0])\n",
        "    next_state = DM.full(state_init + (step_horizon * f_value))\n",
        "\n",
        "    t0 = t0 + step_horizon\n",
        "    u0 = horzcat(\n",
        "        u[:, 1:],\n",
        "        reshape(u[:, -1], -1, 1)\n",
        "    )\n",
        "\n",
        "    return t0, next_state, u0\n",
        "\n",
        "\n",
        "def DM2Arr(dm):\n",
        "    return np.array(dm.full())"
      ]
    },
    {
      "cell_type": "markdown",
      "metadata": {
        "id": "yYqLH2frgM6W"
      },
      "source": [
        "# State and control variables."
      ]
    },
    {
      "cell_type": "code",
      "execution_count": 3,
      "metadata": {
        "id": "kaYPHzbLgM6X"
      },
      "outputs": [],
      "source": [
        "# Based on the exapmle \n",
        "# https://github.com/MMehrez/MPC-and-MHE-implementation-in-MATLAB-using-Casadi/blob/master/workshop_github/Python_Implementation/mpc_code.py\n",
        "\n",
        "x = SX.sym(\"x\")\n",
        "xi = SX.sym(\"xi\")\n",
        "x_dot = SX.sym(\"x_dot\")\n",
        "xi_dot = SX.sym(\"xi_dot\")\n",
        "states = vertcat(x, x_dot, xi, xi_dot)\n",
        "n_states = states.numel()\n",
        "force = SX.sym(\"F\")\n",
        "controls = vertcat(force)\n",
        "n_controls = controls.numel()\n"
      ]
    },
    {
      "cell_type": "markdown",
      "metadata": {
        "id": "m6CwTHnqgM6X"
      },
      "source": []
    },
    {
      "cell_type": "markdown",
      "metadata": {
        "id": "o6-LA7VOgM6Z"
      },
      "source": [
        "# MPC and optimal control parameters.\n",
        "\n",
        "---\n",
        "\n"
      ]
    },
    {
      "cell_type": "code",
      "execution_count": 4,
      "metadata": {
        "id": "ofe7G20igM6Z"
      },
      "outputs": [],
      "source": [
        "# Setting matrix_weights' variables. For objective function??\n",
        "Q_x = 100\n",
        "Q_x_dot = 1\n",
        "Q_xi = 1\n",
        "Q_xi_dot = 1\n",
        "R_1 = 0\n",
        "\n",
        "step_horizon = 0.001 # env.dt # Time between steps in seconds.\n",
        "N = 300 #int(0.1 / env.dt)  # Prediction horizon.\n",
        "RATIO = 50\n",
        "N_controls = N//RATIO\n",
        "sim_time = 0.5\n",
        "\n",
        "F_max = 1.25 # Need to add proper force model\n",
        "F_min = 0 \n",
        "\n",
        "# Initial and target values.\n",
        "x_init = 0\n",
        "x_dot_init = 0\n",
        "xi_init = 0\n",
        "xi_dot_init = 0\n",
        "x_target = 0.1\n",
        "x_dot_target = 0\n",
        "xi_target = 0\n",
        "xi_dot_target = 0\n",
        "\n",
        "\n",
        "\n",
        "# A vector that represents the states over the optimization problem.\n",
        "X = SX.sym(\"X\", n_states, (N + 1))\n",
        "# Decision variables (controls)\n",
        "U = SX.sym(\"U\", n_controls, N_controls)\n",
        "# Parameters (which include the initial state and the reference state)\n",
        "P = SX.sym(\"P\", n_states + n_states)\n",
        "# state weights matrix (Q_X, Q_Y, Q_THETA)\n",
        "Q = diagcat(Q_x, Q_x_dot, Q_xi, Q_xi_dot)\n",
        "# controls weights matrix\n",
        "R = diagcat(R_1)"
      ]
    },
    {
      "cell_type": "markdown",
      "metadata": {
        "id": "8pYv1FqUgM6Y"
      },
      "source": [
        "# Model"
      ]
    },
    {
      "cell_type": "code",
      "execution_count": 5,
      "metadata": {
        "id": "7mBUKnnhgM6Y"
      },
      "outputs": [],
      "source": [
        "friction = env.friction_model(x_dot)\n",
        "x_acc = (env.stiffness * xi - force + friction) / env.M\n",
        "xi_acc = (-env.stiffness * xi + force) / env.m - x_acc\n",
        "\n",
        "rhs = vertcat(x_dot, x_acc, xi_dot, xi_acc)  # System r.h.s\n",
        "\n",
        "# Nonlinear mapping function f(x,u).\n",
        "f = Function(\"f\", [states, controls], [rhs])"
      ]
    },
    {
      "cell_type": "code",
      "execution_count": 6,
      "metadata": {
        "id": "s1ESo99YEfpp"
      },
      "outputs": [],
      "source": [
        "cost_fn = 0 # Cost function.\n",
        "g = X[:, 0] - P[:n_states] # Constraints in the equation. "
      ]
    },
    {
      "cell_type": "code",
      "execution_count": 7,
      "metadata": {
        "id": "DmJwArdSEtvC"
      },
      "outputs": [],
      "source": [
        "# Runge kutta.\n",
        "for k in range(N):\n",
        "    st = X[:, k]\n",
        "    con = U[:, k//RATIO]\n",
        "    cost_fn = cost_fn \\\n",
        "        + (st - P[n_states:]).T @ Q @ (st - P[n_states:]) \\\n",
        "        + con.T @ R @ con\n",
        "    st_next = X[:, k+1]\n",
        "    k1 = f(st, con)\n",
        "    k2 = f(st + step_horizon/2*k1, con)\n",
        "    k3 = f(st + step_horizon/2*k2, con)\n",
        "    k4 = f(st + step_horizon * k3, con)\n",
        "    st_next_RK4 = st + (step_horizon / 6) * (k1 + 2 * k2 + 2 * k3 + k4)\n",
        "    g = vertcat(g, st_next - st_next_RK4)"
      ]
    },
    {
      "cell_type": "markdown",
      "metadata": {
        "id": "nN5GOSyVgM6a"
      },
      "source": [
        "# Problem solving"
      ]
    },
    {
      "cell_type": "code",
      "execution_count": 8,
      "metadata": {
        "id": "b1qZ1VZHgM6b"
      },
      "outputs": [],
      "source": [
        "OPT_variables = vertcat(\n",
        "    X.reshape((-1, 1)), U.reshape((-1, 1))  # Example: 3x11 ---> 33x1 where 3=states, 11=N+1\n",
        ")\n",
        "nlp_prob = {\"f\": cost_fn, \"x\": OPT_variables, \"g\": g, \"p\": P}\n",
        "\n",
        "opts = {\n",
        "    \"ipopt\": {\n",
        "        \"max_iter\": 100,\n",
        "        \"print_level\": 0,\n",
        "        \"acceptable_tol\": 1e-8,\n",
        "        \"acceptable_obj_change_tol\": 1e-6,\n",
        "    },\n",
        "    \"print_time\": 0,\n",
        "}\n",
        "\n",
        "solver = nlpsol(\"solver\", \"ipopt\", nlp_prob, opts)\n",
        "\n",
        "lbx = DM.zeros((n_states * (N + 1) + n_controls * N_controls, 1))\n",
        "ubx = DM.zeros((n_states * (N + 1) + n_controls * N_controls, 1))\n",
        "\n",
        "lbx[0 : n_states * (N + 1) : n_states] = -inf  # X lower bound\n",
        "lbx[1 : n_states * (N + 1) : n_states] = -inf  # x_dot lower bound\n",
        "lbx[2 : n_states * (N + 1) : n_states] = -inf  # xi lower bound\n",
        "lbx[3 : n_states * (N + 1) : n_states] = -inf  # xi_dot lower bound\n",
        "\n",
        "\n",
        "ubx[0 : n_states * (N + 1) : n_states] = inf  # X lower bound\n",
        "ubx[1 : n_states * (N + 1) : n_states] = inf  # x_dot upper bound\n",
        "ubx[2 : n_states * (N + 1) : n_states] = inf  # xi lower bound\n",
        "ubx[3 : n_states * (N + 1) : n_states] = inf  # xi_dot upper bound\n",
        "\n",
        "\n",
        "lbx[n_states * (N + 1) :] = F_min  # v lower bound for F.\n",
        "ubx[n_states * (N + 1) :] = F_max  # v upper bound for F\n",
        "\n",
        "\n",
        "args = {\n",
        "    \"lbg\": DM.zeros((n_states * (N + 1), 1)),  # constraints lower bound\n",
        "    \"ubg\": DM.zeros((n_states * (N + 1), 1)),  # constraints upper bound\n",
        "    \"lbx\": lbx,\n",
        "    \"ubx\": ubx,\n",
        "}"
      ]
    },
    {
      "cell_type": "code",
      "execution_count": 9,
      "metadata": {
        "colab": {
          "base_uri": "https://localhost:8080/"
        },
        "id": "YJ_SFR67gM6c",
        "outputId": "0442759a-65e5-414b-f9e7-3aa1ea6a567e"
      },
      "outputs": [
        {
          "name": "stdout",
          "output_type": "stream",
          "text": [
            "\n",
            "******************************************************************************\n",
            "This program contains Ipopt, a library for large-scale nonlinear optimization.\n",
            " Ipopt is released as open source code under the Eclipse Public License (EPL).\n",
            "         For more information visit http://projects.coin-or.org/Ipopt\n",
            "******************************************************************************\n",
            "\n",
            "x:0.00076, x_dot:0.00846 u:0.23 t:0.00\n",
            "x:0.00128, x_dot:0.00169 u:0.05 t:0.00\n",
            "x:0.00010, x_dot:0.00001 u:0.27 t:0.00\n",
            "x:0.00007, x_dot:-0.00442 u:0.86 t:0.00\n",
            "x:0.00003, x_dot:-0.00214 u:0.60 t:0.00\n",
            "x:0.00000, x_dot:-0.00195 u:0.14 t:0.01\n",
            "x:0.00000, x_dot:-0.00025 u:1.25 t:0.01\n",
            "x:-0.00001, x_dot:0.00007 u:0.10 t:0.01\n",
            "x:-0.00001, x_dot:-0.00489 u:0.57 t:0.01\n",
            "x:0.00000, x_dot:0.00642 u:0.15 t:0.01\n",
            "x:-0.00001, x_dot:-0.00314 u:1.23 t:0.01\n",
            "x:-0.00001, x_dot:0.00116 u:1.16 t:0.01\n",
            "x:0.00000, x_dot:-0.00048 u:0.74 t:0.01\n",
            "x:0.00000, x_dot:0.00649 u:0.29 t:0.01\n",
            "x:0.00001, x_dot:0.03775 u:0.22 t:0.01\n",
            "x:-0.00002, x_dot:0.00049 u:0.53 t:0.01\n",
            "x:-0.00004, x_dot:-0.00453 u:0.00 t:0.02\n",
            "x:-0.00003, x_dot:-0.00350 u:0.99 t:0.02\n",
            "x:-0.00003, x_dot:0.00077 u:1.25 t:0.02\n",
            "x:-0.00002, x_dot:-0.00007 u:1.25 t:0.02\n",
            "x:-0.00001, x_dot:-0.00490 u:1.25 t:0.02\n",
            "x:-0.00002, x_dot:0.00416 u:1.19 t:0.02\n",
            "x:-0.00002, x_dot:-0.00304 u:1.19 t:0.02\n",
            "x:-0.00002, x_dot:0.01138 u:0.21 t:0.02\n",
            "x:-0.00002, x_dot:-0.00006 u:0.36 t:0.02\n",
            "x:-0.00003, x_dot:0.00184 u:0.24 t:0.03\n",
            "x:-0.00003, x_dot:-0.00029 u:1.15 t:0.03\n",
            "x:-0.00004, x_dot:-0.00633 u:0.96 t:0.03\n",
            "x:-0.00005, x_dot:0.00144 u:1.25 t:0.03\n",
            "x:-0.00004, x_dot:-0.00070 u:0.55 t:0.03\n",
            "x:-0.00003, x_dot:0.00599 u:0.39 t:0.03\n",
            "x:-0.00005, x_dot:-0.00303 u:1.11 t:0.03\n",
            "x:-0.00005, x_dot:0.00025 u:0.70 t:0.03\n",
            "x:-0.00006, x_dot:-0.00068 u:0.66 t:0.03\n",
            "x:-0.00005, x_dot:0.00884 u:0.34 t:0.03\n",
            "x:-0.00006, x_dot:-0.00485 u:1.12 t:0.04\n",
            "x:-0.00005, x_dot:0.00748 u:1.24 t:0.04\n",
            "x:-0.00005, x_dot:-0.00000 u:0.00 t:0.04\n",
            "x:-0.00006, x_dot:0.00372 u:1.25 t:0.04\n",
            "x:-0.00004, x_dot:0.00305 u:1.15 t:0.04\n",
            "x:-0.00005, x_dot:-0.00218 u:0.68 t:0.04\n",
            "x:-0.00005, x_dot:0.00738 u:0.44 t:0.04\n",
            "x:-0.00004, x_dot:0.02019 u:1.25 t:0.04\n",
            "x:-0.00004, x_dot:0.01559 u:0.24 t:0.04\n",
            "x:-0.00002, x_dot:0.02351 u:0.01 t:0.04\n",
            "x:-0.00004, x_dot:0.01614 u:0.00 t:0.04\n",
            "x:-0.00004, x_dot:0.00344 u:0.05 t:0.05\n",
            "x:-0.00005, x_dot:0.00455 u:0.05 t:0.05\n",
            "x:-0.00003, x_dot:0.01132 u:0.54 t:0.05\n",
            "x:-0.00002, x_dot:0.00379 u:1.25 t:0.05\n",
            "x:-0.00001, x_dot:0.00786 u:0.41 t:0.05\n",
            "x:-0.00001, x_dot:0.01204 u:0.04 t:0.05\n",
            "x:-0.00001, x_dot:-0.00041 u:0.02 t:0.05\n",
            "x:-0.00001, x_dot:-0.01036 u:0.90 t:0.05\n",
            "x:-0.00001, x_dot:0.01017 u:0.24 t:0.05\n",
            "x:0.00000, x_dot:0.01357 u:0.00 t:0.06\n",
            "x:0.00000, x_dot:0.00411 u:0.00 t:0.06\n",
            "x:0.00001, x_dot:-0.00000 u:0.91 t:0.06\n",
            "x:0.00000, x_dot:-0.00509 u:0.45 t:0.06\n",
            "x:0.00001, x_dot:0.00563 u:0.87 t:0.06\n",
            "x:0.00001, x_dot:-0.00401 u:1.10 t:0.06\n",
            "x:0.00001, x_dot:0.00037 u:0.03 t:0.06\n",
            "x:0.00001, x_dot:0.00111 u:0.09 t:0.06\n",
            "x:0.00001, x_dot:0.00189 u:1.17 t:0.06\n",
            "x:0.00002, x_dot:0.00328 u:1.25 t:0.06\n",
            "x:0.00002, x_dot:0.00185 u:1.07 t:0.07\n",
            "x:0.00003, x_dot:0.00157 u:0.39 t:0.07\n",
            "x:0.00003, x_dot:-0.00200 u:1.00 t:0.07\n",
            "x:0.00002, x_dot:0.01153 u:1.25 t:0.07\n",
            "x:0.00001, x_dot:0.00553 u:0.45 t:0.07\n",
            "x:0.00004, x_dot:0.01831 u:0.74 t:0.07\n",
            "x:0.00004, x_dot:0.00132 u:0.03 t:0.07\n",
            "x:0.00008, x_dot:0.00683 u:1.25 t:0.07\n",
            "x:0.00004, x_dot:0.00173 u:0.78 t:0.07\n",
            "x:0.00005, x_dot:0.00098 u:1.03 t:0.07\n",
            "x:0.00006, x_dot:0.00450 u:0.00 t:0.07\n",
            "x:0.00006, x_dot:0.00235 u:0.04 t:0.08\n",
            "x:0.00007, x_dot:-0.00256 u:0.86 t:0.08\n",
            "x:0.00007, x_dot:0.00299 u:0.35 t:0.08\n",
            "x:0.00005, x_dot:0.00161 u:1.05 t:0.08\n",
            "x:0.00004, x_dot:-0.00045 u:0.72 t:0.08\n",
            "x:0.00004, x_dot:-0.00351 u:0.09 t:0.08\n",
            "x:0.00004, x_dot:-0.00607 u:0.01 t:0.08\n",
            "x:0.00004, x_dot:-0.00230 u:1.20 t:0.08\n",
            "x:0.00004, x_dot:-0.00372 u:0.02 t:0.08\n",
            "x:0.00003, x_dot:-0.00106 u:0.04 t:0.09\n",
            "x:0.00005, x_dot:0.00941 u:0.62 t:0.09\n",
            "x:0.00004, x_dot:-0.00022 u:0.00 t:0.09\n",
            "x:0.00003, x_dot:-0.00132 u:0.01 t:0.09\n",
            "x:0.00002, x_dot:-0.01015 u:0.05 t:0.09\n",
            "x:0.00005, x_dot:0.02327 u:0.00 t:0.09\n",
            "x:0.00005, x_dot:0.00190 u:0.05 t:0.09\n",
            "x:0.00005, x_dot:0.00434 u:0.88 t:0.09\n",
            "x:0.00003, x_dot:-0.00745 u:1.25 t:0.09\n",
            "x:0.00004, x_dot:0.00142 u:0.57 t:0.09\n",
            "x:0.00004, x_dot:-0.00286 u:0.37 t:0.10\n",
            "x:0.00002, x_dot:-0.00581 u:0.12 t:0.10\n",
            "x:0.00003, x_dot:0.00522 u:0.38 t:0.10\n",
            "x:0.00003, x_dot:0.00541 u:0.20 t:0.10\n",
            "x:0.00004, x_dot:0.00805 u:0.01 t:0.10\n",
            "x:0.00004, x_dot:0.00536 u:0.05 t:0.10\n",
            "x:0.00007, x_dot:0.00904 u:0.32 t:0.10\n",
            "x:0.00007, x_dot:-0.00202 u:0.18 t:0.10\n",
            "x:0.00004, x_dot:-0.00069 u:0.51 t:0.10\n",
            "x:0.00004, x_dot:-0.00355 u:0.14 t:0.10\n",
            "x:0.00003, x_dot:-0.00545 u:0.80 t:0.10\n",
            "x:0.00002, x_dot:-0.00601 u:0.01 t:0.11\n",
            "x:0.00001, x_dot:-0.00566 u:0.64 t:0.11\n",
            "x:-0.00015, x_dot:0.00503 u:0.27 t:0.11\n",
            "x:-0.00007, x_dot:-0.00133 u:0.69 t:0.11\n",
            "x:-0.00001, x_dot:-0.00411 u:0.00 t:0.11\n",
            "x:-0.00002, x_dot:-0.00175 u:0.97 t:0.11\n",
            "x:-0.00003, x_dot:-0.01042 u:1.04 t:0.11\n",
            "x:-0.00001, x_dot:0.00690 u:0.24 t:0.11\n",
            "x:-0.00002, x_dot:0.00787 u:0.00 t:0.11\n",
            "x:-0.00002, x_dot:-0.00255 u:0.60 t:0.12\n",
            "x:-0.00004, x_dot:0.00124 u:0.25 t:0.12\n",
            "x:-0.00003, x_dot:0.00098 u:1.01 t:0.12\n",
            "x:-0.00004, x_dot:0.00138 u:0.33 t:0.12\n",
            "x:-0.00004, x_dot:-0.00301 u:0.41 t:0.12\n",
            "x:-0.00004, x_dot:-0.00097 u:1.15 t:0.12\n",
            "x:-0.00006, x_dot:-0.00630 u:0.46 t:0.12\n",
            "x:-0.00007, x_dot:-0.00460 u:0.62 t:0.12\n",
            "x:-0.00008, x_dot:-0.00013 u:0.11 t:0.12\n",
            "x:-0.00007, x_dot:-0.00521 u:0.00 t:0.12\n",
            "x:-0.00007, x_dot:0.00231 u:0.06 t:0.12\n",
            "x:-0.00007, x_dot:0.00439 u:0.06 t:0.13\n",
            "x:-0.00007, x_dot:0.00140 u:0.55 t:0.13\n",
            "x:-0.00008, x_dot:0.00357 u:0.00 t:0.13\n",
            "x:-0.00007, x_dot:-0.00061 u:1.25 t:0.13\n",
            "x:-0.00008, x_dot:-0.00280 u:1.25 t:0.13\n",
            "x:-0.00007, x_dot:-0.00350 u:1.21 t:0.13\n",
            "x:-0.00007, x_dot:0.00097 u:0.31 t:0.13\n",
            "x:-0.00008, x_dot:-0.00394 u:0.29 t:0.13\n",
            "x:-0.00008, x_dot:-0.00084 u:0.91 t:0.13\n",
            "x:-0.00004, x_dot:0.00441 u:0.77 t:0.14\n",
            "x:-0.00005, x_dot:0.08885 u:0.01 t:0.14\n",
            "x:-0.00004, x_dot:-0.00207 u:1.25 t:0.14\n",
            "x:-0.00006, x_dot:-0.00674 u:0.54 t:0.14\n",
            "x:-0.00006, x_dot:0.00132 u:0.32 t:0.14\n",
            "x:-0.00007, x_dot:-0.00454 u:0.48 t:0.14\n",
            "x:-0.00006, x_dot:0.00335 u:0.20 t:0.14\n",
            "x:-0.00005, x_dot:0.01461 u:0.58 t:0.14\n",
            "x:-0.00005, x_dot:-0.00476 u:0.01 t:0.14\n",
            "x:-0.00004, x_dot:-0.00573 u:1.13 t:0.14\n",
            "x:-0.00002, x_dot:0.01392 u:0.72 t:0.14\n",
            "x:-0.00004, x_dot:-0.00046 u:0.18 t:0.15\n",
            "x:-0.00004, x_dot:0.00604 u:0.04 t:0.15\n",
            "x:-0.00003, x_dot:0.01558 u:1.12 t:0.15\n",
            "x:-0.00004, x_dot:-0.00440 u:0.29 t:0.15\n",
            "x:-0.00004, x_dot:0.00907 u:0.45 t:0.15\n",
            "x:-0.00004, x_dot:0.00255 u:1.22 t:0.15\n",
            "x:-0.00000, x_dot:0.03350 u:0.69 t:0.15\n",
            "x:0.00002, x_dot:0.03657 u:0.20 t:0.15\n",
            "x:-0.00002, x_dot:-0.00458 u:1.05 t:0.15\n",
            "x:-0.00002, x_dot:0.01088 u:0.50 t:0.15\n",
            "x:-0.00001, x_dot:0.00719 u:1.06 t:0.16\n",
            "x:-0.00001, x_dot:0.00182 u:0.78 t:0.16\n",
            "x:-0.00001, x_dot:0.00144 u:0.61 t:0.16\n"
          ]
        }
      ],
      "source": [
        "t0 = 0\n",
        "state_init = DM([x_init, x_dot_init, xi_init, xi_dot_init])  # initial state\n",
        "state_target = DM([x_target, x_dot_target, xi_target, xi_dot_target])  # target state\n",
        "\n",
        "t = DM(t0)\n",
        "\n",
        "u0 = DM.zeros((n_controls, N_controls))  # initial control\n",
        "X0 = repmat(state_init, 1, N + 1)  # initial state full\n",
        "\n",
        "\n",
        "mpc_iter = 0\n",
        "cat_states = DM2Arr(X0)\n",
        "cat_controls = DM2Arr(u0[:, 0])\n",
        "times = np.array([[0]])\n",
        "main_loop = time()  # return time in sec\n",
        "while (norm_2(state_init - state_target) > 1e-2) and (mpc_iter * step_horizon < sim_time):\n",
        "    t1 = time()\n",
        "    args[\"p\"] = vertcat(state_init, state_target)  # current state  # target state\n",
        "    # optimization variable current state\n",
        "    args[\"x0\"] = vertcat(reshape(X0, n_states * (N + 1), 1), reshape(u0, n_controls * N_controls, 1))\n",
        "\n",
        "    sol = solver(\n",
        "        x0=args[\"x0\"],\n",
        "        lbx=args[\"lbx\"],\n",
        "        ubx=args[\"ubx\"],\n",
        "        lbg=args[\"lbg\"],\n",
        "        ubg=args[\"ubg\"],\n",
        "        p=args[\"p\"],\n",
        "    )\n",
        "\n",
        "    u = reshape(sol[\"x\"][n_states * (N + 1) :], n_controls, N_controls)\n",
        "    X0 = reshape(sol[\"x\"][: n_states * (N + 1)], n_states, N + 1)\n",
        "\n",
        "    cat_states = np.dstack((cat_states, DM2Arr(X0)))\n",
        "\n",
        "    cat_controls = np.vstack((cat_controls, DM2Arr(u[:, 0])))\n",
        "    t = np.vstack((t, t0))\n",
        "\n",
        "    t0, state_init, u0 = shift_timestep(step_horizon, t0, state_init, u, f)\n",
        "\n",
        "    X0 = horzcat(X0[:, 1:], reshape(X0[:, -1], -1, 1))\n",
        "    x = float(X0[0,0])\n",
        "    x_dot = float(X0[1,0])\n",
        "    print(\"x:{:.5f}, x_dot:{:.5f} u:{:.2f} t:{:.2f}\".format(x, x_dot, float(u0[0]), mpc_iter * step_horizon))\n",
        "\n",
        "    t2 = time()\n",
        "    times = np.vstack((times, t2 - t1))\n",
        "    mpc_iter = mpc_iter + 1\n",
        "\n",
        "main_loop_time = time()\n",
        "ss_error = norm_2(state_init - state_target)\n",
        "\n",
        "print(\"\\n\\n\")\n",
        "print(\"Total time: \", main_loop_time - main_loop)\n",
        "print(\"avg iteration time: \", np.array(times).mean() * 1000, \"ms\")\n",
        "print(\"final error: \", ss_error)"
      ]
    },
    {
      "cell_type": "code",
      "execution_count": null,
      "metadata": {
        "colab": {
          "base_uri": "https://localhost:8080/",
          "height": 575
        },
        "id": "vgiiVbK6gM6e",
        "outputId": "d38ca518-a42a-4989-96ce-156083f993f8"
      },
      "outputs": [
        {
          "ename": "IndexError",
          "evalue": "too many indices for array: array is 2-dimensional, but 3 were indexed",
          "output_type": "error",
          "traceback": [
            "\u001b[0;31m---------------------------------------------------------------------------\u001b[0m",
            "\u001b[0;31mIndexError\u001b[0m                                Traceback (most recent call last)",
            "\u001b[0;32m<ipython-input-10-a105e4ebf8da>\u001b[0m in \u001b[0;36m<module>\u001b[0;34m\u001b[0m\n\u001b[1;32m      1\u001b[0m \u001b[0mfig\u001b[0m\u001b[0;34m,\u001b[0m \u001b[0maxs\u001b[0m \u001b[0;34m=\u001b[0m \u001b[0mplt\u001b[0m\u001b[0;34m.\u001b[0m\u001b[0msubplots\u001b[0m\u001b[0;34m(\u001b[0m\u001b[0;36m2\u001b[0m\u001b[0;34m,\u001b[0m \u001b[0;36m2\u001b[0m\u001b[0;34m,\u001b[0m \u001b[0msharex\u001b[0m\u001b[0;34m=\u001b[0m\u001b[0;32mTrue\u001b[0m\u001b[0;34m)\u001b[0m  \u001b[0;31m# , sharex=True, sharey=True)\u001b[0m\u001b[0;34m\u001b[0m\u001b[0;34m\u001b[0m\u001b[0m\n\u001b[1;32m      2\u001b[0m \u001b[0mfig\u001b[0m\u001b[0;34m.\u001b[0m\u001b[0mset_figwidth\u001b[0m\u001b[0;34m(\u001b[0m\u001b[0;36m15\u001b[0m\u001b[0;34m)\u001b[0m\u001b[0;34m\u001b[0m\u001b[0;34m\u001b[0m\u001b[0m\n\u001b[0;32m----> 3\u001b[0;31m \u001b[0mfig\u001b[0m\u001b[0;34m.\u001b[0m\u001b[0msuptitle\u001b[0m\u001b[0;34m(\u001b[0m\u001b[0;34m\"average speed: {:.3}\"\u001b[0m\u001b[0;34m.\u001b[0m\u001b[0mformat\u001b[0m\u001b[0;34m(\u001b[0m\u001b[0mcat_states\u001b[0m\u001b[0;34m[\u001b[0m\u001b[0;36m0\u001b[0m\u001b[0;34m,\u001b[0m \u001b[0;36m1\u001b[0m\u001b[0;34m,\u001b[0m \u001b[0;34m-\u001b[0m\u001b[0;36m1\u001b[0m\u001b[0;34m]\u001b[0m \u001b[0;34m/\u001b[0m \u001b[0mt\u001b[0m\u001b[0;34m[\u001b[0m\u001b[0;34m-\u001b[0m\u001b[0;36m1\u001b[0m\u001b[0;34m,\u001b[0m \u001b[0;36m0\u001b[0m\u001b[0;34m]\u001b[0m\u001b[0;34m)\u001b[0m\u001b[0;34m)\u001b[0m\u001b[0;34m\u001b[0m\u001b[0;34m\u001b[0m\u001b[0m\n\u001b[0m\u001b[1;32m      4\u001b[0m \u001b[0maxs\u001b[0m\u001b[0;34m[\u001b[0m\u001b[0;36m0\u001b[0m\u001b[0;34m,\u001b[0m \u001b[0;36m0\u001b[0m\u001b[0;34m]\u001b[0m\u001b[0;34m.\u001b[0m\u001b[0mplot\u001b[0m\u001b[0;34m(\u001b[0m\u001b[0mt\u001b[0m\u001b[0;34m,\u001b[0m \u001b[0mcat_states\u001b[0m\u001b[0;34m[\u001b[0m\u001b[0;36m0\u001b[0m\u001b[0;34m,\u001b[0m \u001b[0;36m1\u001b[0m\u001b[0;34m,\u001b[0m \u001b[0;34m:\u001b[0m\u001b[0;34m]\u001b[0m\u001b[0;34m,\u001b[0m \u001b[0mlabel\u001b[0m\u001b[0;34m=\u001b[0m\u001b[0;34m\"x\"\u001b[0m\u001b[0;34m)\u001b[0m\u001b[0;34m\u001b[0m\u001b[0;34m\u001b[0m\u001b[0m\n\u001b[1;32m      5\u001b[0m \u001b[0maxs\u001b[0m\u001b[0;34m[\u001b[0m\u001b[0;36m0\u001b[0m\u001b[0;34m,\u001b[0m \u001b[0;36m0\u001b[0m\u001b[0;34m]\u001b[0m\u001b[0;34m.\u001b[0m\u001b[0mset_title\u001b[0m\u001b[0;34m(\u001b[0m\u001b[0;34m\"x\"\u001b[0m\u001b[0;34m)\u001b[0m\u001b[0;34m\u001b[0m\u001b[0;34m\u001b[0m\u001b[0m\n",
            "\u001b[0;31mIndexError\u001b[0m: too many indices for array: array is 2-dimensional, but 3 were indexed"
          ]
        },
        {
          "data": {
            "image/png": "[encoded data removed]",
            "text/plain": [
              "<Figure size 1080x288 with 4 Axes>"
            ]
          },
          "metadata": {
            "needs_background": "light"
          },
          "output_type": "display_data"
        }
      ],
      "source": [
        "fig, axs = plt.subplots(2, 2, sharex=True)  # , sharex=True, sharey=True)\n",
        "fig.set_figwidth(15)\n",
        "fig.suptitle(\"average speed: {:.3}\".format(cat_states[0, 1, -1] / t[-1, 0]))\n",
        "axs[0, 0].plot(t, cat_states[0, 1, :], label=\"x\")\n",
        "axs[0, 0].set_title(\"x\")\n",
        "axs[1, 0].plot(t, cat_states[1, 1, :], label=\"dx\")\n",
        "axs[1, 0].set_title(\"dx\")\n",
        "axs[0, 1].plot(t, cat_states[2, 1, :], label=\"xi\")\n",
        "axs[0, 1].set_title(\"xi\")\n",
        "axs[1, 1].plot(t, cat_states[3, 1, :], label=\"dxi\")\n",
        "axs[1, 1].set_title(\"dxi\")\n",
        "# t_shift = 3\n",
        "# axs[0, 0].set_xlim(t_shift, t_shift + 1)\n",
        "\n",
        "\n",
        "plt.figure()\n",
        "plt.title(\"control\")\n",
        "plt.plot(t, cat_controls[:, 0])\n",
        "plt.legend()\n",
        "plt.show()\n",
        "\n"
      ]
    },
    {
      "cell_type": "code",
      "execution_count": null,
      "metadata": {
        "id": "o0e_E0iQXm3U"
      },
      "outputs": [],
      "source": []
    }
  ],
  "metadata": {
    "colab": {
      "name": "example_mpc.ipynb",
      "provenance": []
    },
    "interpreter": {
      "hash": "916dbcbb3f70747c44a77c7bcd40155683ae19c65e1c03b4aa3499c5328201f1"
    },
    "kernelspec": {
      "display_name": "Python 3.8.10 64-bit",
      "name": "python3"
    },
    "language_info": {
      "codemirror_mode": {
        "name": "ipython",
        "version": 3
      },
      "file_extension": ".py",
      "mimetype": "text/x-python",
      "name": "python",
      "nbconvert_exporter": "python",
      "pygments_lexer": "ipython3",
      "version": "3.8.10"
    },
    "orig_nbformat": 4
  },
  "nbformat": 4,
  "nbformat_minor": 0
}
