{
  "cells": [
    {
      "cell_type": "markdown",
      "metadata": {
        "id": "Sv7hwjmvgM6O"
      },
      "source": [
        "# Example of model usage"
      ]
    },
    {
      "cell_type": "code",
      "execution_count": 1,
      "metadata": {
        "colab": {
          "base_uri": "https://localhost:8080/"
        },
        "id": "A1wkfTsigM6U",
        "outputId": "fbf05280-7586-4d57-c869-13f850d6c7f2"
      },
      "outputs": [
        {
          "name": "stderr",
          "output_type": "stream",
          "text": [
            "C:\\Users\\RFJ111\\AppData\\Local\\Programs\\Python\\Python39\\lib\\site-packages\\gym\\spaces\\box.py:73: UserWarning: \u001b[33mWARN: Box bound precision lowered by casting to float32\u001b[0m\n",
            "  logger.warn(\n"
          ]
        }
      ],
      "source": [
        "#%matplotlib\n",
        "if 'google.colab' in str(get_ipython()):\n",
        "  import os\n",
        "  if (os.path.split(os.getcwd())[-1] != 'mpc_rl_capsubot'):\n",
        "    import os\n",
        "    !git clone https://github.com/xxFirefly/mpc_rl_capsubot  \n",
        "    %pip install casadi==3.5.5\n",
        "    os.chdir(\"mpc_rl_capsubot\")\n",
        "  %pip install -q --upgrade ipython\n",
        "  %pip install -q --upgrade ipykernel\n",
        "  !git pull\n",
        "\n",
        "from envs.CapsubotEnv import CapsubotEnv\n",
        "import numpy as np\n",
        "from time import time\n",
        "import matplotlib.pyplot as plt\n",
        "import scipy.constants\n",
        "\n",
        "# https://github.com/MMehrez/MPC-and-MHE-implementation-in-MATLAB-using-Casadi/blob/master/workshop_github/Python_Implementation/mpc_code.py\n",
        "\n",
        "# pip install casadi\n",
        "from casadi import *\n",
        "\n",
        "try:\n",
        "    env.close()\n",
        "except Exception:\n",
        "    pass\n",
        "\n",
        "env = CapsubotEnv()"
      ]
    },
    {
      "cell_type": "markdown",
      "metadata": {
        "id": "AyABBtWngM6V"
      },
      "source": [
        "# Helper functions"
      ]
    },
    {
      "cell_type": "code",
      "execution_count": 2,
      "metadata": {
        "id": "Ze7xdItugM6W"
      },
      "outputs": [],
      "source": [
        "def shift_timestep(step_horizon, t0, state_init, u, f):\n",
        "    f_value = f(state_init, u[:, 0])\n",
        "    next_state = DM.full(state_init + (step_horizon * f_value))\n",
        "\n",
        "    t0 = t0 + step_horizon\n",
        "    u0 = horzcat(\n",
        "        u[:, 1:],\n",
        "        reshape(u[:, -1], -1, 1)\n",
        "    )\n",
        "\n",
        "    return t0, next_state, u0\n",
        "\n",
        "\n",
        "def DM2Arr(dm):\n",
        "    return np.array(dm.full())"
      ]
    },
    {
      "cell_type": "markdown",
      "metadata": {
        "id": "yYqLH2frgM6W"
      },
      "source": [
        "# State and control variables."
      ]
    },
    {
      "cell_type": "code",
      "execution_count": 3,
      "metadata": {
        "id": "kaYPHzbLgM6X"
      },
      "outputs": [],
      "source": [
        "# Based on the exapmle \n",
        "# https://github.com/MMehrez/MPC-and-MHE-implementation-in-MATLAB-using-Casadi/blob/master/workshop_github/Python_Implementation/mpc_code.py\n",
        "\n",
        "x = SX.sym(\"x\")\n",
        "xi = SX.sym(\"xi\")\n",
        "x_dot = SX.sym(\"x_dot\")\n",
        "xi_dot = SX.sym(\"xi_dot\")\n",
        "states = vertcat(x, x_dot, xi, xi_dot)\n",
        "n_states = states.numel()\n",
        "force = SX.sym(\"F\")\n",
        "controls = vertcat(force)\n",
        "n_controls = controls.numel()\n"
      ]
    },
    {
      "cell_type": "markdown",
      "metadata": {
        "id": "o6-LA7VOgM6Z"
      },
      "source": [
        "# MPC and optimal control parameters.\n",
        "\n",
        "---\n",
        "\n"
      ]
    },
    {
      "cell_type": "code",
      "execution_count": 10,
      "metadata": {
        "id": "ofe7G20igM6Z"
      },
      "outputs": [],
      "source": [
        "# Setting matrix_weights' variables. For objective function??\n",
        "Q_x = 10\n",
        "Q_x_dot = 0\n",
        "Q_xi = 0\n",
        "Q_xi_dot = 0\n",
        "R_1 = 0\n",
        "\n",
        "step_horizon = 0.005 # env.dt # Time between steps in seconds.  0.005\n",
        "N = 20 #int(0.1 / env.dt)  # Prediction horizon.\n",
        "RATIO = 1\n",
        "N_controls = N//RATIO\n",
        "sim_time = 3 # 3\n",
        "\n",
        "F_max = 1.25 # Need to add proper force model\n",
        "F_min = 0 \n",
        "\n",
        "# Initial and target values.\n",
        "x_init = 0\n",
        "x_dot_init = 0\n",
        "xi_init = 0\n",
        "xi_dot_init = 0\n",
        "x_target = 1\n",
        "x_dot_target = 0\n",
        "xi_target = 0\n",
        "xi_dot_target = 0\n",
        "\n",
        "\n",
        "\n",
        "# A vector that represents the states over the optimization problem.\n",
        "X = SX.sym(\"X\", n_states, (N + 1))\n",
        "# Decision variables (controls)\n",
        "U = SX.sym(\"U\", n_controls, N_controls)\n",
        "# Parameters (which include the initial state and the reference state)\n",
        "P = SX.sym(\"P\", n_states + n_states)\n",
        "# state weights matrix (Q_X, Q_Y, Q_THETA)\n",
        "Q = diagcat(Q_x, Q_x_dot, Q_xi, Q_xi_dot)\n",
        "# controls weights matrix\n",
        "R = diagcat(R_1)"
      ]
    },
    {
      "cell_type": "markdown",
      "metadata": {
        "id": "8pYv1FqUgM6Y"
      },
      "source": [
        "# Model"
      ]
    },
    {
      "cell_type": "code",
      "execution_count": 11,
      "metadata": {
        "id": "7mBUKnnhgM6Y"
      },
      "outputs": [],
      "source": [
        "friction = env.friction_model(x_dot)\n",
        "x_acc = (env.stiffness * xi - force + friction) / env.M\n",
        "xi_acc = (-env.stiffness * xi + force) / env.m - x_acc\n",
        "\n",
        "rhs = vertcat(x_dot, x_acc, xi_dot, xi_acc)  # System r.h.s\n",
        "\n",
        "# Nonlinear mapping function f(x,u).\n",
        "f = Function(\"f\", [states, controls], [rhs])"
      ]
    },
    {
      "cell_type": "code",
      "execution_count": 12,
      "metadata": {
        "id": "s1ESo99YEfpp"
      },
      "outputs": [],
      "source": [
        "cost_fn = 0 # Cost function.\n",
        "g = X[:, 0] - P[:n_states] # Constraints in the equation. "
      ]
    },
    {
      "cell_type": "code",
      "execution_count": 13,
      "metadata": {
        "id": "DmJwArdSEtvC"
      },
      "outputs": [],
      "source": [
        "# Runge kutta.\n",
        "for k in range(N):\n",
        "    st = X[:, k]\n",
        "    con = U[:, k//RATIO]\n",
        "    cost_fn = cost_fn \\\n",
        "        + (st - P[n_states:]).T @ Q @ (st - P[n_states:]) \\\n",
        "        + con.T @ R @ con\n",
        "    st_next = X[:, k+1]\n",
        "    k1 = f(st, con)\n",
        "    # k2 = f(st + step_horizon/2*k1, con)\n",
        "    # k3 = f(st + step_horizon/2*k2, con)\n",
        "    # k4 = f(st + step_horizon * k3, con)\n",
        "    # st_next_RK4 = st + ( step_horizon / 6) * (k1 + 2 * k2 + 2 * k3 + k4)\n",
        "    st_next_RK4 = st + step_horizon * k1\n",
        "    g = vertcat(g, st_next - st_next_RK4)"
      ]
    },
    {
      "cell_type": "markdown",
      "metadata": {
        "id": "nN5GOSyVgM6a"
      },
      "source": [
        "# Problem solving"
      ]
    },
    {
      "cell_type": "code",
      "execution_count": 14,
      "metadata": {
        "id": "b1qZ1VZHgM6b"
      },
      "outputs": [],
      "source": [
        "OPT_variables = vertcat(\n",
        "    X.reshape((-1, 1)), U.reshape((-1, 1))  # Example: 3x11 ---> 33x1 where 3=states, 11=N+1\n",
        ")\n",
        "nlp_prob = {\"f\": cost_fn, \"x\": OPT_variables, \"g\": g, \"p\": P}\n",
        "\n",
        "opts = {\n",
        "    \"ipopt\": {\n",
        "        \"max_iter\": 2000,\n",
        "        \"print_level\": 0,\n",
        "        \"acceptable_tol\": 1e-8,\n",
        "        \"acceptable_obj_change_tol\": 1e-6,\n",
        "    },\n",
        "    \"print_time\": 0,\n",
        "}\n",
        "\n",
        "solver = nlpsol(\"solver\", \"ipopt\", nlp_prob, opts)\n",
        "\n",
        "lbx = DM.zeros((n_states * (N + 1) + n_controls * N_controls, 1))\n",
        "ubx = DM.zeros((n_states * (N + 1) + n_controls * N_controls, 1))\n",
        "\n",
        "lbx[0 : n_states * (N + 1) : n_states] = -inf  # X lower bound\n",
        "lbx[1 : n_states * (N + 1) : n_states] = -inf  # x_dot lower bound\n",
        "lbx[2 : n_states * (N + 1) : n_states] = -inf  # xi lower bound\n",
        "lbx[3 : n_states * (N + 1) : n_states] = -inf  # xi_dot lower bound\n",
        "\n",
        "\n",
        "ubx[0 : n_states * (N + 1) : n_states] = inf  # X lower bound\n",
        "ubx[1 : n_states * (N + 1) : n_states] = inf  # x_dot upper bound\n",
        "ubx[2 : n_states * (N + 1) : n_states] = inf  # xi lower bound\n",
        "ubx[3 : n_states * (N + 1) : n_states] = inf  # xi_dot upper bound\n",
        "\n",
        "\n",
        "lbx[n_states * (N + 1) :] = F_min  # v lower bound for F.\n",
        "ubx[n_states * (N + 1) :] = F_max  # v upper bound for F\n",
        "\n",
        "\n",
        "args = {\n",
        "    \"lbg\": DM.zeros((n_states * (N + 1), 1)),  # constraints lower bound\n",
        "    \"ubg\": DM.zeros((n_states * (N + 1), 1)),  # constraints upper bound\n",
        "    \"lbx\": lbx,\n",
        "    \"ubx\": ubx,\n",
        "}"
      ]
    },
    {
      "cell_type": "code",
      "execution_count": 15,
      "metadata": {
        "colab": {
          "base_uri": "https://localhost:8080/"
        },
        "id": "YJ_SFR67gM6c",
        "outputId": "0442759a-65e5-414b-f9e7-3aa1ea6a567e"
      },
      "outputs": [
        {
          "name": "stdout",
          "output_type": "stream",
          "text": [
            "x:0.00081, x_dot:-0.68110 u:0.89 t:0.00\n",
            "x:0.00162, x_dot:-1.37089 u:0.95 t:0.05\n",
            "x:0.00243, x_dot:-0.08243 u:0.82 t:0.10\n",
            "x:0.00324, x_dot:5.97374 u:0.47 t:0.15\n",
            "x:0.00405, x_dot:-4.69743 u:0.03 t:0.20\n",
            "x:0.00486, x_dot:-110.07216 u:1.20 t:0.25\n",
            "x:0.00567, x_dot:-188.71662 u:0.62 t:0.30\n",
            "x:0.00648, x_dot:1015.59295 u:0.63 t:0.35\n",
            "x:0.00729, x_dot:4438.75365 u:0.63 t:0.40\n",
            "x:0.00810, x_dot:-3198.39840 u:0.00 t:0.45\n",
            "x:0.00891, x_dot:-66342.37737 u:0.63 t:0.50\n",
            "x:0.00972, x_dot:8236.41939 u:1.25 t:0.55\n",
            "x:0.01053, x_dot:71066.44619 u:1.25 t:0.60\n",
            "x:0.01134, x_dot:9591.58828 u:0.00 t:0.65\n",
            "x:0.01215, x_dot:-32094.68561 u:0.00 t:0.70\n",
            "x:0.01296, x_dot:-7081.44873 u:1.25 t:0.75\n",
            "x:0.01377, x_dot:21198.78177 u:1.25 t:0.80\n",
            "x:0.01458, x_dot:3350.40244 u:1.25 t:0.85\n",
            "x:0.01539, x_dot:10228.68375 u:0.00 t:0.90\n",
            "x:0.01620, x_dot:9750.96120 u:0.00 t:0.95\n",
            "x:0.01701, x_dot:-898.83424 u:1.25 t:1.00\n",
            "x:0.01782, x_dot:-5519.83644 u:1.25 t:1.05\n",
            "x:0.01863, x_dot:-9493.48696 u:0.00 t:1.10\n",
            "x:0.01944, x_dot:-7424.65859 u:0.00 t:1.15\n",
            "x:0.02025, x_dot:-4330.00921 u:0.00 t:1.20\n",
            "x:0.02106, x_dot:-91054258.29978 u:1.25 t:1.25\n",
            "x:0.02187, x_dot:-7435334406352.84570 u:1.25 t:1.30\n",
            "x:0.02268, x_dot:8919302944383.11328 u:0.00 t:1.35\n",
            "x:0.02349, x_dot:190944903544796.84375 u:0.00 t:1.40\n",
            "x:0.02430, x_dot:266161418118931.87500 u:0.00 t:1.45\n",
            "x:0.02511, x_dot:-1945310305917923.50000 u:1.25 t:1.50\n",
            "x:0.02592, x_dot:-7344179864924448.00000 u:1.25 t:1.55\n",
            "x:0.02673, x_dot:10552937243700954.00000 u:0.00 t:1.60\n",
            "x:0.02754, x_dot:116400194811656336.00000 u:0.00 t:1.65\n",
            "x:0.02835, x_dot:95871051708540496.00000 u:0.00 t:1.70\n",
            "x:0.02916, x_dot:-1318604014981531904.00000 u:1.25 t:1.75\n",
            "x:0.02997, x_dot:-3881179079687401472.00000 u:1.25 t:1.80\n",
            "x:0.03078, x_dot:9347136017475497984.00000 u:0.00 t:1.85\n",
            "x:0.03159, x_dot:9347136017475495936.00000 u:0.01 t:1.90\n",
            "x:0.03240, x_dot:16825321715877500928.00000 u:0.00 t:1.95\n",
            "x:0.03321, x_dot:16825321715877500928.00000 u:0.01 t:2.00\n",
            "x:0.03402, x_dot:16825321715877500928.00000 u:1.24 t:2.05\n",
            "x:0.03483, x_dot:16825321715877505024.00000 u:1.24 t:2.10\n",
            "x:0.03564, x_dot:16825321715877511168.00000 u:1.24 t:2.15\n",
            "x:0.03645, x_dot:16825321715877472256.00000 u:0.01 t:2.20\n",
            "x:0.03726, x_dot:16825321715877312512.00000 u:0.01 t:2.25\n",
            "x:0.03807, x_dot:16825321715877505024.00000 u:1.24 t:2.30\n",
            "x:0.03888, x_dot:16825321715879958528.00000 u:1.24 t:2.35\n",
            "x:0.03969, x_dot:16825321715882362880.00000 u:0.08 t:2.40\n",
            "x:0.04050, x_dot:16825321715855339520.00000 u:0.08 t:2.45\n",
            "x:0.04131, x_dot:16825321715770087424.00000 u:0.01 t:2.50\n",
            "x:0.04212, x_dot:16825321715950213120.00000 u:0.14 t:2.55\n",
            "x:0.04293, x_dot:16825321717416648704.00000 u:0.07 t:2.60\n",
            "x:0.04374, x_dot:16825321718012303360.00000 u:0.16 t:2.65\n",
            "x:0.04455, x_dot:16825321700175941632.00000 u:0.19 t:2.70\n",
            "x:0.04536, x_dot:16825321656774318080.00000 u:0.03 t:2.75\n",
            "x:0.04617, x_dot:16825321801406078976.00000 u:0.01 t:2.80\n",
            "x:0.04698, x_dot:16825322653825638400.00000 u:0.01 t:2.85\n",
            "x:0.04779, x_dot:16825322482001061888.00000 u:0.01 t:2.90\n",
            "x:0.04779, x_dot:16825322482001061888.00000 u:0.01 t:2.95\n",
            "x:0.04779, x_dot:16825322482001061888.00000 u:0.01 t:3.00\n",
            "x:0.04779, x_dot:16825322482001061888.00000 u:0.01 t:3.05\n",
            "x:0.04779, x_dot:16825322482001061888.00000 u:0.01 t:3.10\n",
            "x:0.04779, x_dot:16825322482001061888.00000 u:0.01 t:3.15\n",
            "x:0.04779, x_dot:16825322482001061888.00000 u:0.01 t:3.20\n",
            "x:0.04779, x_dot:16825322482001061888.00000 u:0.01 t:3.25\n",
            "x:0.04779, x_dot:16825322482001061888.00000 u:0.01 t:3.30\n",
            "x:0.04779, x_dot:16825322482001061888.00000 u:0.01 t:3.35\n",
            "x:0.04779, x_dot:16825322482001061888.00000 u:0.01 t:3.40\n",
            "x:0.04779, x_dot:16825322482001061888.00000 u:0.01 t:3.45\n",
            "x:0.04779, x_dot:16825322482001061888.00000 u:0.01 t:3.50\n",
            "x:0.04779, x_dot:16825322482001061888.00000 u:0.01 t:3.55\n",
            "x:0.04779, x_dot:16825322482001061888.00000 u:0.01 t:3.60\n",
            "x:0.04779, x_dot:16825322482001061888.00000 u:0.01 t:3.65\n",
            "x:0.04779, x_dot:16825322482001061888.00000 u:0.01 t:3.70\n",
            "x:0.04779, x_dot:16825322482001061888.00000 u:0.01 t:3.75\n",
            "x:0.04779, x_dot:16825322482001061888.00000 u:0.01 t:3.80\n",
            "x:0.04779, x_dot:16825322482001061888.00000 u:0.01 t:3.85\n",
            "x:0.04779, x_dot:16825322482001061888.00000 u:0.01 t:3.90\n",
            "x:0.04779, x_dot:16825322482001061888.00000 u:0.01 t:3.95\n",
            "x:0.04779, x_dot:16825322482001061888.00000 u:0.01 t:4.00\n",
            "x:0.04779, x_dot:16825322482001061888.00000 u:0.01 t:4.05\n",
            "x:0.04779, x_dot:16825322482001061888.00000 u:0.01 t:4.10\n",
            "x:0.04779, x_dot:16825322482001061888.00000 u:0.01 t:4.15\n",
            "x:0.04779, x_dot:16825322482001061888.00000 u:0.01 t:4.20\n",
            "x:0.04779, x_dot:16825322482001061888.00000 u:0.01 t:4.25\n",
            "x:0.04779, x_dot:16825322482001061888.00000 u:0.01 t:4.30\n",
            "x:0.04779, x_dot:16825322482001061888.00000 u:0.01 t:4.35\n",
            "x:0.04779, x_dot:16825322482001061888.00000 u:0.01 t:4.40\n",
            "x:0.04779, x_dot:16825322482001061888.00000 u:0.01 t:4.45\n",
            "x:0.04779, x_dot:16825322482001061888.00000 u:0.01 t:4.50\n",
            "x:0.04779, x_dot:16825322482001061888.00000 u:0.01 t:4.55\n",
            "x:0.04779, x_dot:16825322482001061888.00000 u:0.01 t:4.60\n",
            "x:0.04779, x_dot:16825322482001061888.00000 u:0.01 t:4.65\n",
            "x:0.04779, x_dot:16825322482001061888.00000 u:0.01 t:4.70\n",
            "x:0.04779, x_dot:16825322482001061888.00000 u:0.01 t:4.75\n",
            "x:0.04779, x_dot:16825322482001061888.00000 u:0.01 t:4.80\n",
            "x:0.04779, x_dot:16825322482001061888.00000 u:0.01 t:4.85\n",
            "x:0.04779, x_dot:16825322482001061888.00000 u:0.01 t:4.90\n",
            "x:0.04779, x_dot:16825322482001061888.00000 u:0.01 t:4.95\n",
            "\n",
            "\n",
            "\n",
            "Total time:  72.09398865699768\n",
            "avg iteration time:  713.672947175432 ms\n",
            "final error:  4.64431e+053\n"
          ]
        }
      ],
      "source": [
        "t0 = 0\n",
        "state_init = DM([x_init, x_dot_init, xi_init, xi_dot_init])  # initial state\n",
        "state_target = DM([x_target, x_dot_target, xi_target, xi_dot_target])  # target state\n",
        "\n",
        "t = DM(t0)\n",
        "\n",
        "u0 = DM.zeros((n_controls, N_controls))  # initial control\n",
        "X0 = repmat(state_init, 1, N + 1)  # initial state full\n",
        "\n",
        "\n",
        "mpc_iter = 0\n",
        "cat_states = DM2Arr(X0)\n",
        "cat_controls = DM2Arr(u0[:, 0])\n",
        "times = np.array([[0]])\n",
        "main_loop = time()  # return time in sec\n",
        "while (norm_2(state_init - state_target) > 1e-2) and (mpc_iter * step_horizon < sim_time):\n",
        "    t1 = time()\n",
        "    args[\"p\"] = vertcat(state_init, state_target)  # current state  # target state\n",
        "    # optimization variable current state\n",
        "    args[\"x0\"] = vertcat(reshape(X0, n_states * (N + 1), 1), reshape(u0, n_controls * N_controls, 1))\n",
        "\n",
        "    sol = solver(\n",
        "        x0=args[\"x0\"],\n",
        "        lbx=args[\"lbx\"],\n",
        "        ubx=args[\"ubx\"],\n",
        "        lbg=args[\"lbg\"],\n",
        "        ubg=args[\"ubg\"],\n",
        "        p=args[\"p\"],\n",
        "    )\n",
        "\n",
        "    u = reshape(sol[\"x\"][n_states * (N + 1) :], n_controls, N_controls)\n",
        "    X0 = reshape(sol[\"x\"][: n_states * (N + 1)], n_states, N + 1)\n",
        "\n",
        "    cat_states = np.dstack((cat_states, DM2Arr(X0)))    # matrix 1\n",
        "\n",
        "    cat_controls = np.vstack((cat_controls, DM2Arr(u[:, 0])))    # matrix 2\n",
        "    t = np.vstack((t, t0))\n",
        "\n",
        "    t0, state_init, u0 = shift_timestep(step_horizon, t0, state_init, u, f)\n",
        "\n",
        "    X0 = horzcat(X0[:, 1:], reshape(X0[:, -1], -1, 1))\n",
        "    x = float(X0[0,0])\n",
        "    x_dot = float(X0[1,0])\n",
        "    print(\"x:{:.5f}, x_dot:{:.5f} u:{:.2f} t:{:.2f}\".format(x, x_dot, float(u0[0]), mpc_iter * step_horizon))\n",
        "\n",
        "    t2 = time()\n",
        "    times = np.vstack((times, t2 - t1))\n",
        "    mpc_iter = mpc_iter + 1\n",
        "\n",
        "main_loop_time = time()\n",
        "ss_error = norm_2(state_init - state_target)\n",
        "\n",
        "print(\"\\n\\n\")\n",
        "print(\"Total time: \", main_loop_time - main_loop)\n",
        "print(\"avg iteration time: \", np.array(times).mean() * 1000, \"ms\")\n",
        "print(\"final error: \", ss_error)"
      ]
    },
    {
      "cell_type": "code",
      "execution_count": 16,
      "metadata": {
        "colab": {
          "base_uri": "https://localhost:8080/",
          "height": 575
        },
        "id": "vgiiVbK6gM6e",
        "outputId": "d38ca518-a42a-4989-96ce-156083f993f8"
      },
      "outputs": [
        {
          "name": "stderr",
          "output_type": "stream",
          "text": [
            "No artists with labels found to put in legend.  Note that artists whose label start with an underscore are ignored when legend() is called with no argument.\n"
          ]
        },
        {
          "data": {
            "image/png": "[encoded data removed]",
            "text/plain": [
              "<Figure size 1080x288 with 4 Axes>"
            ]
          },
          "metadata": {
            "needs_background": "light"
          },
          "output_type": "display_data"
        },
        {
          "data": {
            "image/png": "[encoded data removed]",
            "text/plain": [
              "<Figure size 432x288 with 1 Axes>"
            ]
          },
          "metadata": {
            "needs_background": "light"
          },
          "output_type": "display_data"
        }
      ],
      "source": [
        "fig, axs = plt.subplots(2, 2, sharex=True)  # , sharex=True, sharey=True)\n",
        "fig.set_figwidth(15)\n",
        "fig.suptitle(\"average speed: {:.3}\".format(cat_states[0, 1, -1] / t[-1, 0]))\n",
        "axs[0, 0].plot(t, cat_states[0, 1, :], label=\"x\")\n",
        "axs[0, 0].set_title(\"x\")\n",
        "axs[1, 0].plot(t, cat_states[1, 1, :], label=\"dx\")\n",
        "axs[1, 0].set_title(\"dx\")\n",
        "axs[0, 1].plot(t, cat_states[2, 1, :], label=\"xi\")\n",
        "axs[0, 1].set_title(\"xi\")\n",
        "axs[1, 1].plot(t, cat_states[3, 1, :], label=\"dxi\")\n",
        "axs[1, 1].set_title(\"dxi\")\n",
        "# t_shift = 3\n",
        "# axs[0, 0].set_xlim(t_shift, t_shift + 1)\n",
        "\n",
        "\n",
        "plt.figure()\n",
        "plt.title(\"control\")\n",
        "plt.plot(t, cat_controls[:, 0])\n",
        "plt.legend()\n",
        "plt.show()\n",
        "\n"
      ]
    },
    {
      "cell_type": "code",
      "execution_count": 17,
      "metadata": {
        "id": "o0e_E0iQXm3U"
      },
      "outputs": [
        {
          "name": "stderr",
          "output_type": "stream",
          "text": [
            "No artists with labels found to put in legend.  Note that artists whose label start with an underscore are ignored when legend() is called with no argument.\n"
          ]
        },
        {
          "data": {
            "image/png": "[encoded data removed]",
            "text/plain": [
              "<Figure size 432x288 with 1 Axes>"
            ]
          },
          "metadata": {
            "needs_background": "light"
          },
          "output_type": "display_data"
        }
      ],
      "source": [
        "plt.figure()\n",
        "plt.title(\"control\")\n",
        "plt.plot(t, cat_controls[:, 0])\n",
        "plt.xlim([0.7, 2.0])\n",
        "plt.legend()\n",
        "plt.show()\n",
        "\n"
      ]
    },
    {
      "cell_type": "code",
      "execution_count": 23,
      "metadata": {},
      "outputs": [
        {
          "ename": "TypeError",
          "evalue": "object of type 'SX' has no len()",
          "output_type": "error",
          "traceback": [
            "\u001b[1;31m---------------------------------------------------------------------------\u001b[0m",
            "\u001b[1;31mTypeError\u001b[0m                                 Traceback (most recent call last)",
            "\u001b[1;32m~\\AppData\\Local\\Temp/ipykernel_6544/1571883761.py\u001b[0m in \u001b[0;36m<module>\u001b[1;34m\u001b[0m\n\u001b[1;32m----> 1\u001b[1;33m \u001b[0mlen\u001b[0m\u001b[1;33m(\u001b[0m\u001b[0mcontrols\u001b[0m\u001b[1;33m)\u001b[0m\u001b[1;33m\u001b[0m\u001b[1;33m\u001b[0m\u001b[0m\n\u001b[0m",
            "\u001b[1;31mTypeError\u001b[0m: object of type 'SX' has no len()"
          ]
        }
      ],
      "source": [
        "len(controls)"
      ]
    },
    {
      "cell_type": "code",
      "execution_count": null,
      "metadata": {},
      "outputs": [],
      "source": []
    }
  ],
  "metadata": {
    "colab": {
      "name": "example_mpc.ipynb",
      "provenance": []
    },
    "interpreter": {
      "hash": "916dbcbb3f70747c44a77c7bcd40155683ae19c65e1c03b4aa3499c5328201f1"
    },
    "kernelspec": {
      "display_name": "Python 3.8.10 64-bit",
      "name": "python3"
    },
    "language_info": {
      "codemirror_mode": {
        "name": "ipython",
        "version": 3
      },
      "file_extension": ".py",
      "mimetype": "text/x-python",
      "name": "python",
      "nbconvert_exporter": "python",
      "pygments_lexer": "ipython3",
      "version": "3.9.9"
    },
    "orig_nbformat": 4
  },
  "nbformat": 4,
  "nbformat_minor": 0
}
